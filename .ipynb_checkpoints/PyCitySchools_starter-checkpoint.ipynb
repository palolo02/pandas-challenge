{
 "cells": [
  {
   "cell_type": "markdown",
   "metadata": {},
   "source": [
    "### Note\n",
    "* Instructions have been included for each segment. You do not have to follow them exactly, but they are included to help you think through the steps."
   ]
  },
  {
   "cell_type": "code",
   "execution_count": 1,
   "metadata": {},
   "outputs": [],
   "source": [
    "# Dependencies and Setup\n",
    "import pandas as pd\n",
    "import numpy as np\n",
    "\n",
    "# File to Load (Remember to Change These)\n",
    "school_data_to_load = \"Resources/schools_complete.csv\"\n",
    "student_data_to_load = \"Resources/students_complete.csv\"\n",
    "\n",
    "# Read School and Student Data File and store into Pandas Data Frames\n",
    "school_data = pd.read_csv(school_data_to_load)\n",
    "student_data = pd.read_csv(student_data_to_load)\n",
    "\n",
    "# Combine the data into a single dataset\n",
    "school_data_complete = pd.merge(student_data, school_data, how=\"left\", on=[\"school_name\", \"school_name\"])"
   ]
  },
  {
   "cell_type": "markdown",
   "metadata": {},
   "source": [
    "## District Summary\n",
    "\n",
    "* Calculate the total number of schools\n",
    "\n",
    "* Calculate the total number of students\n",
    "\n",
    "* Calculate the total budget\n",
    "\n",
    "* Calculate the average math score \n",
    "\n",
    "* Calculate the average reading score\n",
    "\n",
    "* Calculate the overall passing rate (overall average score), i.e. (avg. math score + avg. reading score)/2\n",
    "\n",
    "* Calculate the percentage of students with a passing math score (70 or greater)\n",
    "\n",
    "* Calculate the percentage of students with a passing reading score (70 or greater)\n",
    "\n",
    "* Create a dataframe to hold the above results\n",
    "\n",
    "* Optional: give the displayed data cleaner formatting"
   ]
  },
  {
   "cell_type": "code",
   "execution_count": null,
   "metadata": {},
   "outputs": [],
   "source": [
    "# Borrar\n",
    "school_data_complete.groupby(by=[\"school_name\",\"type\",\"size\"]).max()"
   ]
  },
  {
   "cell_type": "code",
   "execution_count": 2,
   "metadata": {},
   "outputs": [],
   "source": [
    "# Create a summary statistics for all the schools\n",
    "totalSchools  = school_data_complete[\"School ID\"].value_counts().count()\n",
    "totalStudents = school_data_complete[\"Student ID\"].value_counts().count()\n",
    "schools       = school_data_complete.groupby(by=[\"School ID\"]).max()\n",
    "totalBudget   = schools[\"budget\"].sum()\n",
    "avgMath       = school_data_complete[\"math_score\"].mean()\n",
    "avgReading    = school_data_complete[\"reading_score\"].mean()\n",
    "avgPassing    = (avgMath + avgReading) / 2\n",
    "\n",
    "# Get those students who passed Math and Reading\n",
    "studentPassMath = school_data_complete.loc[school_data_complete[\"math_score\"] >= 70,\"Student ID\"].count()\n",
    "studentPassRead = school_data_complete.loc[school_data_complete[\"reading_score\"] >= 70,\"Student ID\"].count()\n",
    "\n",
    "# Calculate the percentages for each subject\n",
    "perPassMath = (studentPassMath / totalStudents)*100\n",
    "perPassRead = (studentPassRead / totalStudents)*100"
   ]
  },
  {
   "cell_type": "code",
   "execution_count": 3,
   "metadata": {},
   "outputs": [],
   "source": [
    "# Create the data frame for the summary statistics with the calculated variables\n",
    "summary = {\"Total Schools\":totalSchools,\n",
    "          \"Total Students\":totalStudents,\n",
    "          \"Total Budget\":totalBudget,\n",
    "          \"Average Math Score\":avgMath,\n",
    "          \"Average Reading Score\":avgReading,\n",
    "          \"% Passing Math\":perPassMath,\n",
    "          \"% Passing Reading\":perPassRead,\n",
    "          \"% Overall Passing Rate\":avgPassing}\n",
    "# Convert to data frame\n",
    "summary_data = pd.DataFrame(summary,index=[0])"
   ]
  },
  {
   "cell_type": "code",
   "execution_count": 4,
   "metadata": {},
   "outputs": [],
   "source": [
    "# Apply formatting for each of the columns\n",
    "summary_data = summary_data.style.format({\n",
    "     \"Total Schools\":\"{:,}\",\n",
    "     \"Total Students\":\"{:,}\",\n",
    "     \"Total Budget\":\"${:,}\",\n",
    "     \"Average Math Score\":\"{:,.2f}\",\n",
    "     \"Average Reading Score\":\"{:,.2f}\",\n",
    "     \"% Passing Math\":\"%{:,.2f}\",\n",
    "     \"% Passing Reading\":\"%{:,.2f}\",\n",
    "     \"% Overall Passing Rate\":\"%{:,.2f}\"\n",
    "     })"
   ]
  },
  {
   "cell_type": "code",
   "execution_count": 6,
   "metadata": {
    "scrolled": true
   },
   "outputs": [
    {
     "name": "stdout",
     "output_type": "stream",
     "text": [
      "District Summary:\n"
     ]
    },
    {
     "data": {
      "text/html": [
       "<style  type=\"text/css\" >\n",
       "</style><table id=\"T_5cba40a2_6871_11ea_becc_94daac80a480\" ><thead>    <tr>        <th class=\"blank level0\" ></th>        <th class=\"col_heading level0 col0\" >Total Schools</th>        <th class=\"col_heading level0 col1\" >Total Students</th>        <th class=\"col_heading level0 col2\" >Total Budget</th>        <th class=\"col_heading level0 col3\" >Average Math Score</th>        <th class=\"col_heading level0 col4\" >Average Reading Score</th>        <th class=\"col_heading level0 col5\" >% Passing Math</th>        <th class=\"col_heading level0 col6\" >% Passing Reading</th>        <th class=\"col_heading level0 col7\" >% Overall Passing Rate</th>    </tr></thead><tbody>\n",
       "                <tr>\n",
       "                        <th id=\"T_5cba40a2_6871_11ea_becc_94daac80a480level0_row0\" class=\"row_heading level0 row0\" >0</th>\n",
       "                        <td id=\"T_5cba40a2_6871_11ea_becc_94daac80a480row0_col0\" class=\"data row0 col0\" >15</td>\n",
       "                        <td id=\"T_5cba40a2_6871_11ea_becc_94daac80a480row0_col1\" class=\"data row0 col1\" >39,170</td>\n",
       "                        <td id=\"T_5cba40a2_6871_11ea_becc_94daac80a480row0_col2\" class=\"data row0 col2\" >$24,649,428</td>\n",
       "                        <td id=\"T_5cba40a2_6871_11ea_becc_94daac80a480row0_col3\" class=\"data row0 col3\" >78.99</td>\n",
       "                        <td id=\"T_5cba40a2_6871_11ea_becc_94daac80a480row0_col4\" class=\"data row0 col4\" >81.88</td>\n",
       "                        <td id=\"T_5cba40a2_6871_11ea_becc_94daac80a480row0_col5\" class=\"data row0 col5\" >%74.98</td>\n",
       "                        <td id=\"T_5cba40a2_6871_11ea_becc_94daac80a480row0_col6\" class=\"data row0 col6\" >%85.81</td>\n",
       "                        <td id=\"T_5cba40a2_6871_11ea_becc_94daac80a480row0_col7\" class=\"data row0 col7\" >%80.43</td>\n",
       "            </tr>\n",
       "    </tbody></table>"
      ],
      "text/plain": [
       "<pandas.io.formats.style.Styler at 0x2323f41c2c8>"
      ]
     },
     "metadata": {},
     "output_type": "display_data"
    }
   ],
   "source": [
    "# Display the summary table\n",
    "print(\"District Summary:\")\n",
    "display(summary_data)"
   ]
  },
  {
   "cell_type": "markdown",
   "metadata": {},
   "source": [
    "## School Summary"
   ]
  },
  {
   "cell_type": "markdown",
   "metadata": {},
   "source": [
    "* Create an overview table that summarizes key metrics about each school, including:\n",
    "  * School Name\n",
    "  * School Type\n",
    "  * Total Students\n",
    "  * Total School Budget\n",
    "  * Per Student Budget\n",
    "  * Average Math Score\n",
    "  * Average Reading Score\n",
    "  * % Passing Math\n",
    "  * % Passing Reading\n",
    "  * Overall Passing Rate (Average of the above two)\n",
    "  \n",
    "* Create a dataframe to hold the above results"
   ]
  },
  {
   "cell_type": "code",
   "execution_count": 51,
   "metadata": {
    "scrolled": false
   },
   "outputs": [],
   "source": [
    "#Summary data table grouped by school\n",
    "schools_data = school_data_complete.groupby(by=[\"school_name\",\"type\"]).agg(total_students=('Student ID','count'),\n",
    "                                                              total_school_budget=('budget','max'),\n",
    "                                                              avg_math_score=('math_score',np.mean),\n",
    "                                                              avg_read_score=('reading_score',np.mean)\n",
    "                                                             )"
   ]
  },
  {
   "cell_type": "code",
   "execution_count": 53,
   "metadata": {
    "scrolled": true
   },
   "outputs": [],
   "source": [
    "# Get the budget per student for each school\n",
    "schools_data[\"Per Student Budget\"] = schools_data['total_school_budget'].div(schools_data[\"total_students\"],axis=0)\n",
    "# Get the total number of students who passed math\n",
    "schools_data[\"No Students Passed Math\"] = school_data_complete.loc[school_data_complete[\"math_score\"]>= 70].groupby(by=[\"school_name\",\"type\"])[\"school_name\"].count()\n",
    "# Get the total number of students who passed reading\n",
    "schools_data[\"No Students Passed Reading\"] = school_data_complete.loc[school_data_complete[\"reading_score\"]>= 70].groupby(by=[\"school_name\",\"type\"])[\"school_name\"].count()\n",
    "                                                                               "
   ]
  },
  {
   "cell_type": "code",
   "execution_count": 54,
   "metadata": {},
   "outputs": [],
   "source": [
    "# Calculate the percentages statistics per school in Math and Reading\n",
    "schools_data[\"% Passing Math\"] = schools_data['No Students Passed Math'].div(schools_data[\"total_students\"],axis=0)*100\n",
    "schools_data[\"% Passing Reading\"] = schools_data['No Students Passed Reading'].div(schools_data[\"total_students\"],axis=0)*100\n",
    "schools_data[\"Overall Passing Rate\"] = schools_data['% Passing Math'].add(schools_data[\"% Passing Reading\"]).div(2)\n"
   ]
  },
  {
   "cell_type": "code",
   "execution_count": 55,
   "metadata": {},
   "outputs": [],
   "source": [
    "# Rename some columns to facilitate readability\n",
    "schools_data.rename(columns={\"total_students\":\"Total Students\",\n",
    "                            \"total_school_budget\":\"Total School Budget\",\n",
    "                            \"avg_math_score\":\"Avg Math Score\",\n",
    "                            \"avg_read_score\":\"Avg Reading Score\"}, inplace=True)\n",
    "\n"
   ]
  },
  {
   "cell_type": "code",
   "execution_count": 80,
   "metadata": {
    "scrolled": true
   },
   "outputs": [
    {
     "data": {
      "text/html": [
       "<style  type=\"text/css\" >\n",
       "</style><table id=\"T_bf48abd2_687a_11ea_8bc3_94daac80a480\" ><thead>    <tr>        <th class=\"blank\" ></th>        <th class=\"blank level0\" ></th>        <th class=\"col_heading level0 col0\" >Total Students</th>        <th class=\"col_heading level0 col1\" >Total School Budget</th>        <th class=\"col_heading level0 col2\" >Per Student Budget</th>        <th class=\"col_heading level0 col3\" >Avg Math Score</th>        <th class=\"col_heading level0 col4\" >Avg Reading Score</th>        <th class=\"col_heading level0 col5\" >% Passing Math</th>        <th class=\"col_heading level0 col6\" >% Passing Reading</th>        <th class=\"col_heading level0 col7\" >Overall Passing Rate</th>    </tr>    <tr>        <th class=\"index_name level0\" >school_name</th>        <th class=\"index_name level1\" >type</th>        <th class=\"blank\" ></th>        <th class=\"blank\" ></th>        <th class=\"blank\" ></th>        <th class=\"blank\" ></th>        <th class=\"blank\" ></th>        <th class=\"blank\" ></th>        <th class=\"blank\" ></th>        <th class=\"blank\" ></th>    </tr></thead><tbody>\n",
       "                <tr>\n",
       "                        <th id=\"T_bf48abd2_687a_11ea_8bc3_94daac80a480level0_row0\" class=\"row_heading level0 row0\" >Bailey High School</th>\n",
       "                        <th id=\"T_bf48abd2_687a_11ea_8bc3_94daac80a480level1_row0\" class=\"row_heading level1 row0\" >District</th>\n",
       "                        <td id=\"T_bf48abd2_687a_11ea_8bc3_94daac80a480row0_col0\" class=\"data row0 col0\" >4,976</td>\n",
       "                        <td id=\"T_bf48abd2_687a_11ea_8bc3_94daac80a480row0_col1\" class=\"data row0 col1\" >$3,124,928</td>\n",
       "                        <td id=\"T_bf48abd2_687a_11ea_8bc3_94daac80a480row0_col2\" class=\"data row0 col2\" >$628.00</td>\n",
       "                        <td id=\"T_bf48abd2_687a_11ea_8bc3_94daac80a480row0_col3\" class=\"data row0 col3\" >77.05</td>\n",
       "                        <td id=\"T_bf48abd2_687a_11ea_8bc3_94daac80a480row0_col4\" class=\"data row0 col4\" >81.03</td>\n",
       "                        <td id=\"T_bf48abd2_687a_11ea_8bc3_94daac80a480row0_col5\" class=\"data row0 col5\" >%66.68</td>\n",
       "                        <td id=\"T_bf48abd2_687a_11ea_8bc3_94daac80a480row0_col6\" class=\"data row0 col6\" >%81.93</td>\n",
       "                        <td id=\"T_bf48abd2_687a_11ea_8bc3_94daac80a480row0_col7\" class=\"data row0 col7\" >%74.31</td>\n",
       "            </tr>\n",
       "            <tr>\n",
       "                        <th id=\"T_bf48abd2_687a_11ea_8bc3_94daac80a480level0_row1\" class=\"row_heading level0 row1\" >Cabrera High School</th>\n",
       "                        <th id=\"T_bf48abd2_687a_11ea_8bc3_94daac80a480level1_row1\" class=\"row_heading level1 row1\" >Charter</th>\n",
       "                        <td id=\"T_bf48abd2_687a_11ea_8bc3_94daac80a480row1_col0\" class=\"data row1 col0\" >1,858</td>\n",
       "                        <td id=\"T_bf48abd2_687a_11ea_8bc3_94daac80a480row1_col1\" class=\"data row1 col1\" >$1,081,356</td>\n",
       "                        <td id=\"T_bf48abd2_687a_11ea_8bc3_94daac80a480row1_col2\" class=\"data row1 col2\" >$582.00</td>\n",
       "                        <td id=\"T_bf48abd2_687a_11ea_8bc3_94daac80a480row1_col3\" class=\"data row1 col3\" >83.06</td>\n",
       "                        <td id=\"T_bf48abd2_687a_11ea_8bc3_94daac80a480row1_col4\" class=\"data row1 col4\" >83.98</td>\n",
       "                        <td id=\"T_bf48abd2_687a_11ea_8bc3_94daac80a480row1_col5\" class=\"data row1 col5\" >%94.13</td>\n",
       "                        <td id=\"T_bf48abd2_687a_11ea_8bc3_94daac80a480row1_col6\" class=\"data row1 col6\" >%97.04</td>\n",
       "                        <td id=\"T_bf48abd2_687a_11ea_8bc3_94daac80a480row1_col7\" class=\"data row1 col7\" >%95.59</td>\n",
       "            </tr>\n",
       "            <tr>\n",
       "                        <th id=\"T_bf48abd2_687a_11ea_8bc3_94daac80a480level0_row2\" class=\"row_heading level0 row2\" >Figueroa High School</th>\n",
       "                        <th id=\"T_bf48abd2_687a_11ea_8bc3_94daac80a480level1_row2\" class=\"row_heading level1 row2\" >District</th>\n",
       "                        <td id=\"T_bf48abd2_687a_11ea_8bc3_94daac80a480row2_col0\" class=\"data row2 col0\" >2,949</td>\n",
       "                        <td id=\"T_bf48abd2_687a_11ea_8bc3_94daac80a480row2_col1\" class=\"data row2 col1\" >$1,884,411</td>\n",
       "                        <td id=\"T_bf48abd2_687a_11ea_8bc3_94daac80a480row2_col2\" class=\"data row2 col2\" >$639.00</td>\n",
       "                        <td id=\"T_bf48abd2_687a_11ea_8bc3_94daac80a480row2_col3\" class=\"data row2 col3\" >76.71</td>\n",
       "                        <td id=\"T_bf48abd2_687a_11ea_8bc3_94daac80a480row2_col4\" class=\"data row2 col4\" >81.16</td>\n",
       "                        <td id=\"T_bf48abd2_687a_11ea_8bc3_94daac80a480row2_col5\" class=\"data row2 col5\" >%65.99</td>\n",
       "                        <td id=\"T_bf48abd2_687a_11ea_8bc3_94daac80a480row2_col6\" class=\"data row2 col6\" >%80.74</td>\n",
       "                        <td id=\"T_bf48abd2_687a_11ea_8bc3_94daac80a480row2_col7\" class=\"data row2 col7\" >%73.36</td>\n",
       "            </tr>\n",
       "            <tr>\n",
       "                        <th id=\"T_bf48abd2_687a_11ea_8bc3_94daac80a480level0_row3\" class=\"row_heading level0 row3\" >Ford High School</th>\n",
       "                        <th id=\"T_bf48abd2_687a_11ea_8bc3_94daac80a480level1_row3\" class=\"row_heading level1 row3\" >District</th>\n",
       "                        <td id=\"T_bf48abd2_687a_11ea_8bc3_94daac80a480row3_col0\" class=\"data row3 col0\" >2,739</td>\n",
       "                        <td id=\"T_bf48abd2_687a_11ea_8bc3_94daac80a480row3_col1\" class=\"data row3 col1\" >$1,763,916</td>\n",
       "                        <td id=\"T_bf48abd2_687a_11ea_8bc3_94daac80a480row3_col2\" class=\"data row3 col2\" >$644.00</td>\n",
       "                        <td id=\"T_bf48abd2_687a_11ea_8bc3_94daac80a480row3_col3\" class=\"data row3 col3\" >77.10</td>\n",
       "                        <td id=\"T_bf48abd2_687a_11ea_8bc3_94daac80a480row3_col4\" class=\"data row3 col4\" >80.75</td>\n",
       "                        <td id=\"T_bf48abd2_687a_11ea_8bc3_94daac80a480row3_col5\" class=\"data row3 col5\" >%68.31</td>\n",
       "                        <td id=\"T_bf48abd2_687a_11ea_8bc3_94daac80a480row3_col6\" class=\"data row3 col6\" >%79.30</td>\n",
       "                        <td id=\"T_bf48abd2_687a_11ea_8bc3_94daac80a480row3_col7\" class=\"data row3 col7\" >%73.80</td>\n",
       "            </tr>\n",
       "            <tr>\n",
       "                        <th id=\"T_bf48abd2_687a_11ea_8bc3_94daac80a480level0_row4\" class=\"row_heading level0 row4\" >Griffin High School</th>\n",
       "                        <th id=\"T_bf48abd2_687a_11ea_8bc3_94daac80a480level1_row4\" class=\"row_heading level1 row4\" >Charter</th>\n",
       "                        <td id=\"T_bf48abd2_687a_11ea_8bc3_94daac80a480row4_col0\" class=\"data row4 col0\" >1,468</td>\n",
       "                        <td id=\"T_bf48abd2_687a_11ea_8bc3_94daac80a480row4_col1\" class=\"data row4 col1\" >$917,500</td>\n",
       "                        <td id=\"T_bf48abd2_687a_11ea_8bc3_94daac80a480row4_col2\" class=\"data row4 col2\" >$625.00</td>\n",
       "                        <td id=\"T_bf48abd2_687a_11ea_8bc3_94daac80a480row4_col3\" class=\"data row4 col3\" >83.35</td>\n",
       "                        <td id=\"T_bf48abd2_687a_11ea_8bc3_94daac80a480row4_col4\" class=\"data row4 col4\" >83.82</td>\n",
       "                        <td id=\"T_bf48abd2_687a_11ea_8bc3_94daac80a480row4_col5\" class=\"data row4 col5\" >%93.39</td>\n",
       "                        <td id=\"T_bf48abd2_687a_11ea_8bc3_94daac80a480row4_col6\" class=\"data row4 col6\" >%97.14</td>\n",
       "                        <td id=\"T_bf48abd2_687a_11ea_8bc3_94daac80a480row4_col7\" class=\"data row4 col7\" >%95.27</td>\n",
       "            </tr>\n",
       "            <tr>\n",
       "                        <th id=\"T_bf48abd2_687a_11ea_8bc3_94daac80a480level0_row5\" class=\"row_heading level0 row5\" >Hernandez High School</th>\n",
       "                        <th id=\"T_bf48abd2_687a_11ea_8bc3_94daac80a480level1_row5\" class=\"row_heading level1 row5\" >District</th>\n",
       "                        <td id=\"T_bf48abd2_687a_11ea_8bc3_94daac80a480row5_col0\" class=\"data row5 col0\" >4,635</td>\n",
       "                        <td id=\"T_bf48abd2_687a_11ea_8bc3_94daac80a480row5_col1\" class=\"data row5 col1\" >$3,022,020</td>\n",
       "                        <td id=\"T_bf48abd2_687a_11ea_8bc3_94daac80a480row5_col2\" class=\"data row5 col2\" >$652.00</td>\n",
       "                        <td id=\"T_bf48abd2_687a_11ea_8bc3_94daac80a480row5_col3\" class=\"data row5 col3\" >77.29</td>\n",
       "                        <td id=\"T_bf48abd2_687a_11ea_8bc3_94daac80a480row5_col4\" class=\"data row5 col4\" >80.93</td>\n",
       "                        <td id=\"T_bf48abd2_687a_11ea_8bc3_94daac80a480row5_col5\" class=\"data row5 col5\" >%66.75</td>\n",
       "                        <td id=\"T_bf48abd2_687a_11ea_8bc3_94daac80a480row5_col6\" class=\"data row5 col6\" >%80.86</td>\n",
       "                        <td id=\"T_bf48abd2_687a_11ea_8bc3_94daac80a480row5_col7\" class=\"data row5 col7\" >%73.81</td>\n",
       "            </tr>\n",
       "            <tr>\n",
       "                        <th id=\"T_bf48abd2_687a_11ea_8bc3_94daac80a480level0_row6\" class=\"row_heading level0 row6\" >Holden High School</th>\n",
       "                        <th id=\"T_bf48abd2_687a_11ea_8bc3_94daac80a480level1_row6\" class=\"row_heading level1 row6\" >Charter</th>\n",
       "                        <td id=\"T_bf48abd2_687a_11ea_8bc3_94daac80a480row6_col0\" class=\"data row6 col0\" >427</td>\n",
       "                        <td id=\"T_bf48abd2_687a_11ea_8bc3_94daac80a480row6_col1\" class=\"data row6 col1\" >$248,087</td>\n",
       "                        <td id=\"T_bf48abd2_687a_11ea_8bc3_94daac80a480row6_col2\" class=\"data row6 col2\" >$581.00</td>\n",
       "                        <td id=\"T_bf48abd2_687a_11ea_8bc3_94daac80a480row6_col3\" class=\"data row6 col3\" >83.80</td>\n",
       "                        <td id=\"T_bf48abd2_687a_11ea_8bc3_94daac80a480row6_col4\" class=\"data row6 col4\" >83.81</td>\n",
       "                        <td id=\"T_bf48abd2_687a_11ea_8bc3_94daac80a480row6_col5\" class=\"data row6 col5\" >%92.51</td>\n",
       "                        <td id=\"T_bf48abd2_687a_11ea_8bc3_94daac80a480row6_col6\" class=\"data row6 col6\" >%96.25</td>\n",
       "                        <td id=\"T_bf48abd2_687a_11ea_8bc3_94daac80a480row6_col7\" class=\"data row6 col7\" >%94.38</td>\n",
       "            </tr>\n",
       "            <tr>\n",
       "                        <th id=\"T_bf48abd2_687a_11ea_8bc3_94daac80a480level0_row7\" class=\"row_heading level0 row7\" >Huang High School</th>\n",
       "                        <th id=\"T_bf48abd2_687a_11ea_8bc3_94daac80a480level1_row7\" class=\"row_heading level1 row7\" >District</th>\n",
       "                        <td id=\"T_bf48abd2_687a_11ea_8bc3_94daac80a480row7_col0\" class=\"data row7 col0\" >2,917</td>\n",
       "                        <td id=\"T_bf48abd2_687a_11ea_8bc3_94daac80a480row7_col1\" class=\"data row7 col1\" >$1,910,635</td>\n",
       "                        <td id=\"T_bf48abd2_687a_11ea_8bc3_94daac80a480row7_col2\" class=\"data row7 col2\" >$655.00</td>\n",
       "                        <td id=\"T_bf48abd2_687a_11ea_8bc3_94daac80a480row7_col3\" class=\"data row7 col3\" >76.63</td>\n",
       "                        <td id=\"T_bf48abd2_687a_11ea_8bc3_94daac80a480row7_col4\" class=\"data row7 col4\" >81.18</td>\n",
       "                        <td id=\"T_bf48abd2_687a_11ea_8bc3_94daac80a480row7_col5\" class=\"data row7 col5\" >%65.68</td>\n",
       "                        <td id=\"T_bf48abd2_687a_11ea_8bc3_94daac80a480row7_col6\" class=\"data row7 col6\" >%81.32</td>\n",
       "                        <td id=\"T_bf48abd2_687a_11ea_8bc3_94daac80a480row7_col7\" class=\"data row7 col7\" >%73.50</td>\n",
       "            </tr>\n",
       "            <tr>\n",
       "                        <th id=\"T_bf48abd2_687a_11ea_8bc3_94daac80a480level0_row8\" class=\"row_heading level0 row8\" >Johnson High School</th>\n",
       "                        <th id=\"T_bf48abd2_687a_11ea_8bc3_94daac80a480level1_row8\" class=\"row_heading level1 row8\" >District</th>\n",
       "                        <td id=\"T_bf48abd2_687a_11ea_8bc3_94daac80a480row8_col0\" class=\"data row8 col0\" >4,761</td>\n",
       "                        <td id=\"T_bf48abd2_687a_11ea_8bc3_94daac80a480row8_col1\" class=\"data row8 col1\" >$3,094,650</td>\n",
       "                        <td id=\"T_bf48abd2_687a_11ea_8bc3_94daac80a480row8_col2\" class=\"data row8 col2\" >$650.00</td>\n",
       "                        <td id=\"T_bf48abd2_687a_11ea_8bc3_94daac80a480row8_col3\" class=\"data row8 col3\" >77.07</td>\n",
       "                        <td id=\"T_bf48abd2_687a_11ea_8bc3_94daac80a480row8_col4\" class=\"data row8 col4\" >80.97</td>\n",
       "                        <td id=\"T_bf48abd2_687a_11ea_8bc3_94daac80a480row8_col5\" class=\"data row8 col5\" >%66.06</td>\n",
       "                        <td id=\"T_bf48abd2_687a_11ea_8bc3_94daac80a480row8_col6\" class=\"data row8 col6\" >%81.22</td>\n",
       "                        <td id=\"T_bf48abd2_687a_11ea_8bc3_94daac80a480row8_col7\" class=\"data row8 col7\" >%73.64</td>\n",
       "            </tr>\n",
       "            <tr>\n",
       "                        <th id=\"T_bf48abd2_687a_11ea_8bc3_94daac80a480level0_row9\" class=\"row_heading level0 row9\" >Pena High School</th>\n",
       "                        <th id=\"T_bf48abd2_687a_11ea_8bc3_94daac80a480level1_row9\" class=\"row_heading level1 row9\" >Charter</th>\n",
       "                        <td id=\"T_bf48abd2_687a_11ea_8bc3_94daac80a480row9_col0\" class=\"data row9 col0\" >962</td>\n",
       "                        <td id=\"T_bf48abd2_687a_11ea_8bc3_94daac80a480row9_col1\" class=\"data row9 col1\" >$585,858</td>\n",
       "                        <td id=\"T_bf48abd2_687a_11ea_8bc3_94daac80a480row9_col2\" class=\"data row9 col2\" >$609.00</td>\n",
       "                        <td id=\"T_bf48abd2_687a_11ea_8bc3_94daac80a480row9_col3\" class=\"data row9 col3\" >83.84</td>\n",
       "                        <td id=\"T_bf48abd2_687a_11ea_8bc3_94daac80a480row9_col4\" class=\"data row9 col4\" >84.04</td>\n",
       "                        <td id=\"T_bf48abd2_687a_11ea_8bc3_94daac80a480row9_col5\" class=\"data row9 col5\" >%94.59</td>\n",
       "                        <td id=\"T_bf48abd2_687a_11ea_8bc3_94daac80a480row9_col6\" class=\"data row9 col6\" >%95.95</td>\n",
       "                        <td id=\"T_bf48abd2_687a_11ea_8bc3_94daac80a480row9_col7\" class=\"data row9 col7\" >%95.27</td>\n",
       "            </tr>\n",
       "            <tr>\n",
       "                        <th id=\"T_bf48abd2_687a_11ea_8bc3_94daac80a480level0_row10\" class=\"row_heading level0 row10\" >Rodriguez High School</th>\n",
       "                        <th id=\"T_bf48abd2_687a_11ea_8bc3_94daac80a480level1_row10\" class=\"row_heading level1 row10\" >District</th>\n",
       "                        <td id=\"T_bf48abd2_687a_11ea_8bc3_94daac80a480row10_col0\" class=\"data row10 col0\" >3,999</td>\n",
       "                        <td id=\"T_bf48abd2_687a_11ea_8bc3_94daac80a480row10_col1\" class=\"data row10 col1\" >$2,547,363</td>\n",
       "                        <td id=\"T_bf48abd2_687a_11ea_8bc3_94daac80a480row10_col2\" class=\"data row10 col2\" >$637.00</td>\n",
       "                        <td id=\"T_bf48abd2_687a_11ea_8bc3_94daac80a480row10_col3\" class=\"data row10 col3\" >76.84</td>\n",
       "                        <td id=\"T_bf48abd2_687a_11ea_8bc3_94daac80a480row10_col4\" class=\"data row10 col4\" >80.74</td>\n",
       "                        <td id=\"T_bf48abd2_687a_11ea_8bc3_94daac80a480row10_col5\" class=\"data row10 col5\" >%66.37</td>\n",
       "                        <td id=\"T_bf48abd2_687a_11ea_8bc3_94daac80a480row10_col6\" class=\"data row10 col6\" >%80.22</td>\n",
       "                        <td id=\"T_bf48abd2_687a_11ea_8bc3_94daac80a480row10_col7\" class=\"data row10 col7\" >%73.29</td>\n",
       "            </tr>\n",
       "            <tr>\n",
       "                        <th id=\"T_bf48abd2_687a_11ea_8bc3_94daac80a480level0_row11\" class=\"row_heading level0 row11\" >Shelton High School</th>\n",
       "                        <th id=\"T_bf48abd2_687a_11ea_8bc3_94daac80a480level1_row11\" class=\"row_heading level1 row11\" >Charter</th>\n",
       "                        <td id=\"T_bf48abd2_687a_11ea_8bc3_94daac80a480row11_col0\" class=\"data row11 col0\" >1,761</td>\n",
       "                        <td id=\"T_bf48abd2_687a_11ea_8bc3_94daac80a480row11_col1\" class=\"data row11 col1\" >$1,056,600</td>\n",
       "                        <td id=\"T_bf48abd2_687a_11ea_8bc3_94daac80a480row11_col2\" class=\"data row11 col2\" >$600.00</td>\n",
       "                        <td id=\"T_bf48abd2_687a_11ea_8bc3_94daac80a480row11_col3\" class=\"data row11 col3\" >83.36</td>\n",
       "                        <td id=\"T_bf48abd2_687a_11ea_8bc3_94daac80a480row11_col4\" class=\"data row11 col4\" >83.73</td>\n",
       "                        <td id=\"T_bf48abd2_687a_11ea_8bc3_94daac80a480row11_col5\" class=\"data row11 col5\" >%93.87</td>\n",
       "                        <td id=\"T_bf48abd2_687a_11ea_8bc3_94daac80a480row11_col6\" class=\"data row11 col6\" >%95.85</td>\n",
       "                        <td id=\"T_bf48abd2_687a_11ea_8bc3_94daac80a480row11_col7\" class=\"data row11 col7\" >%94.86</td>\n",
       "            </tr>\n",
       "            <tr>\n",
       "                        <th id=\"T_bf48abd2_687a_11ea_8bc3_94daac80a480level0_row12\" class=\"row_heading level0 row12\" >Thomas High School</th>\n",
       "                        <th id=\"T_bf48abd2_687a_11ea_8bc3_94daac80a480level1_row12\" class=\"row_heading level1 row12\" >Charter</th>\n",
       "                        <td id=\"T_bf48abd2_687a_11ea_8bc3_94daac80a480row12_col0\" class=\"data row12 col0\" >1,635</td>\n",
       "                        <td id=\"T_bf48abd2_687a_11ea_8bc3_94daac80a480row12_col1\" class=\"data row12 col1\" >$1,043,130</td>\n",
       "                        <td id=\"T_bf48abd2_687a_11ea_8bc3_94daac80a480row12_col2\" class=\"data row12 col2\" >$638.00</td>\n",
       "                        <td id=\"T_bf48abd2_687a_11ea_8bc3_94daac80a480row12_col3\" class=\"data row12 col3\" >83.42</td>\n",
       "                        <td id=\"T_bf48abd2_687a_11ea_8bc3_94daac80a480row12_col4\" class=\"data row12 col4\" >83.85</td>\n",
       "                        <td id=\"T_bf48abd2_687a_11ea_8bc3_94daac80a480row12_col5\" class=\"data row12 col5\" >%93.27</td>\n",
       "                        <td id=\"T_bf48abd2_687a_11ea_8bc3_94daac80a480row12_col6\" class=\"data row12 col6\" >%97.31</td>\n",
       "                        <td id=\"T_bf48abd2_687a_11ea_8bc3_94daac80a480row12_col7\" class=\"data row12 col7\" >%95.29</td>\n",
       "            </tr>\n",
       "            <tr>\n",
       "                        <th id=\"T_bf48abd2_687a_11ea_8bc3_94daac80a480level0_row13\" class=\"row_heading level0 row13\" >Wilson High School</th>\n",
       "                        <th id=\"T_bf48abd2_687a_11ea_8bc3_94daac80a480level1_row13\" class=\"row_heading level1 row13\" >Charter</th>\n",
       "                        <td id=\"T_bf48abd2_687a_11ea_8bc3_94daac80a480row13_col0\" class=\"data row13 col0\" >2,283</td>\n",
       "                        <td id=\"T_bf48abd2_687a_11ea_8bc3_94daac80a480row13_col1\" class=\"data row13 col1\" >$1,319,574</td>\n",
       "                        <td id=\"T_bf48abd2_687a_11ea_8bc3_94daac80a480row13_col2\" class=\"data row13 col2\" >$578.00</td>\n",
       "                        <td id=\"T_bf48abd2_687a_11ea_8bc3_94daac80a480row13_col3\" class=\"data row13 col3\" >83.27</td>\n",
       "                        <td id=\"T_bf48abd2_687a_11ea_8bc3_94daac80a480row13_col4\" class=\"data row13 col4\" >83.99</td>\n",
       "                        <td id=\"T_bf48abd2_687a_11ea_8bc3_94daac80a480row13_col5\" class=\"data row13 col5\" >%93.87</td>\n",
       "                        <td id=\"T_bf48abd2_687a_11ea_8bc3_94daac80a480row13_col6\" class=\"data row13 col6\" >%96.54</td>\n",
       "                        <td id=\"T_bf48abd2_687a_11ea_8bc3_94daac80a480row13_col7\" class=\"data row13 col7\" >%95.20</td>\n",
       "            </tr>\n",
       "            <tr>\n",
       "                        <th id=\"T_bf48abd2_687a_11ea_8bc3_94daac80a480level0_row14\" class=\"row_heading level0 row14\" >Wright High School</th>\n",
       "                        <th id=\"T_bf48abd2_687a_11ea_8bc3_94daac80a480level1_row14\" class=\"row_heading level1 row14\" >Charter</th>\n",
       "                        <td id=\"T_bf48abd2_687a_11ea_8bc3_94daac80a480row14_col0\" class=\"data row14 col0\" >1,800</td>\n",
       "                        <td id=\"T_bf48abd2_687a_11ea_8bc3_94daac80a480row14_col1\" class=\"data row14 col1\" >$1,049,400</td>\n",
       "                        <td id=\"T_bf48abd2_687a_11ea_8bc3_94daac80a480row14_col2\" class=\"data row14 col2\" >$583.00</td>\n",
       "                        <td id=\"T_bf48abd2_687a_11ea_8bc3_94daac80a480row14_col3\" class=\"data row14 col3\" >83.68</td>\n",
       "                        <td id=\"T_bf48abd2_687a_11ea_8bc3_94daac80a480row14_col4\" class=\"data row14 col4\" >83.95</td>\n",
       "                        <td id=\"T_bf48abd2_687a_11ea_8bc3_94daac80a480row14_col5\" class=\"data row14 col5\" >%93.33</td>\n",
       "                        <td id=\"T_bf48abd2_687a_11ea_8bc3_94daac80a480row14_col6\" class=\"data row14 col6\" >%96.61</td>\n",
       "                        <td id=\"T_bf48abd2_687a_11ea_8bc3_94daac80a480row14_col7\" class=\"data row14 col7\" >%94.97</td>\n",
       "            </tr>\n",
       "    </tbody></table>"
      ],
      "text/plain": [
       "<pandas.io.formats.style.Styler at 0x23243fe5a08>"
      ]
     },
     "execution_count": 80,
     "metadata": {},
     "output_type": "execute_result"
    }
   ],
   "source": [
    "# Get the columns to display and apply formatting for each of them\n",
    "schools_data_disp = schools_data.loc[:,[\"Total Students\",\n",
    "                                       \"Total School Budget\",\n",
    "                                       \"Per Student Budget\",\n",
    "                                       \"Avg Math Score\",\n",
    "                                       \"Avg Reading Score\",\n",
    "                                       \"% Passing Math\",\n",
    "                                       \"% Passing Reading\",\n",
    "                                       \"Overall Passing Rate\"]]\n",
    "\n",
    "print(\"Schools Summary Statistics\")\n",
    "\n",
    "# Apply formatting to display the results\n",
    "schools_data_disp.style.format({\n",
    "     \"Total Students\":\"{:,}\",\n",
    "     \"Total School Budget\":\"${:,}\",\n",
    "     \"Avg Math Score\":\"{:,.2f}\",\n",
    "     \"Avg Reading Score\":\"{:,.2f}\",\n",
    "     \"Per Student Budget\":\"${:,.2f}\",\n",
    "     \"% Passing Math\":\"%{:,.2f}\",\n",
    "     \"% Passing Reading\":\"%{:,.2f}\",\n",
    "     \"Overall Passing Rate\":\"%{:,.2f}\",\n",
    "     \"No Students Passed Reading\":\"{:,.2f}\",\n",
    "     \"No Students Passed Math\":\"{:,.2f}\"\n",
    "     })"
   ]
  },
  {
   "cell_type": "markdown",
   "metadata": {},
   "source": [
    "## Top Performing Schools (By Passing Rate)"
   ]
  },
  {
   "cell_type": "markdown",
   "metadata": {},
   "source": [
    "* Sort and display the top five schools in overall passing rate"
   ]
  },
  {
   "cell_type": "code",
   "execution_count": 83,
   "metadata": {},
   "outputs": [
    {
     "data": {
      "text/html": [
       "<style  type=\"text/css\" >\n",
       "</style><table id=\"T_3d4a311a_687b_11ea_ac69_94daac80a480\" ><thead>    <tr>        <th class=\"blank\" ></th>        <th class=\"blank level0\" ></th>        <th class=\"col_heading level0 col0\" >Total Students</th>        <th class=\"col_heading level0 col1\" >Total School Budget</th>        <th class=\"col_heading level0 col2\" >Per Student Budget</th>        <th class=\"col_heading level0 col3\" >Avg Math Score</th>        <th class=\"col_heading level0 col4\" >Avg Reading Score</th>        <th class=\"col_heading level0 col5\" >% Passing Math</th>        <th class=\"col_heading level0 col6\" >% Passing Reading</th>        <th class=\"col_heading level0 col7\" >Overall Passing Rate</th>    </tr>    <tr>        <th class=\"index_name level0\" >school_name</th>        <th class=\"index_name level1\" >type</th>        <th class=\"blank\" ></th>        <th class=\"blank\" ></th>        <th class=\"blank\" ></th>        <th class=\"blank\" ></th>        <th class=\"blank\" ></th>        <th class=\"blank\" ></th>        <th class=\"blank\" ></th>        <th class=\"blank\" ></th>    </tr></thead><tbody>\n",
       "                <tr>\n",
       "                        <th id=\"T_3d4a311a_687b_11ea_ac69_94daac80a480level0_row0\" class=\"row_heading level0 row0\" >Cabrera High School</th>\n",
       "                        <th id=\"T_3d4a311a_687b_11ea_ac69_94daac80a480level1_row0\" class=\"row_heading level1 row0\" >Charter</th>\n",
       "                        <td id=\"T_3d4a311a_687b_11ea_ac69_94daac80a480row0_col0\" class=\"data row0 col0\" >1,858</td>\n",
       "                        <td id=\"T_3d4a311a_687b_11ea_ac69_94daac80a480row0_col1\" class=\"data row0 col1\" >$1,081,356</td>\n",
       "                        <td id=\"T_3d4a311a_687b_11ea_ac69_94daac80a480row0_col2\" class=\"data row0 col2\" >$582.00</td>\n",
       "                        <td id=\"T_3d4a311a_687b_11ea_ac69_94daac80a480row0_col3\" class=\"data row0 col3\" >83.06</td>\n",
       "                        <td id=\"T_3d4a311a_687b_11ea_ac69_94daac80a480row0_col4\" class=\"data row0 col4\" >83.98</td>\n",
       "                        <td id=\"T_3d4a311a_687b_11ea_ac69_94daac80a480row0_col5\" class=\"data row0 col5\" >%94.13</td>\n",
       "                        <td id=\"T_3d4a311a_687b_11ea_ac69_94daac80a480row0_col6\" class=\"data row0 col6\" >%97.04</td>\n",
       "                        <td id=\"T_3d4a311a_687b_11ea_ac69_94daac80a480row0_col7\" class=\"data row0 col7\" >%95.59</td>\n",
       "            </tr>\n",
       "            <tr>\n",
       "                        <th id=\"T_3d4a311a_687b_11ea_ac69_94daac80a480level0_row1\" class=\"row_heading level0 row1\" >Thomas High School</th>\n",
       "                        <th id=\"T_3d4a311a_687b_11ea_ac69_94daac80a480level1_row1\" class=\"row_heading level1 row1\" >Charter</th>\n",
       "                        <td id=\"T_3d4a311a_687b_11ea_ac69_94daac80a480row1_col0\" class=\"data row1 col0\" >1,635</td>\n",
       "                        <td id=\"T_3d4a311a_687b_11ea_ac69_94daac80a480row1_col1\" class=\"data row1 col1\" >$1,043,130</td>\n",
       "                        <td id=\"T_3d4a311a_687b_11ea_ac69_94daac80a480row1_col2\" class=\"data row1 col2\" >$638.00</td>\n",
       "                        <td id=\"T_3d4a311a_687b_11ea_ac69_94daac80a480row1_col3\" class=\"data row1 col3\" >83.42</td>\n",
       "                        <td id=\"T_3d4a311a_687b_11ea_ac69_94daac80a480row1_col4\" class=\"data row1 col4\" >83.85</td>\n",
       "                        <td id=\"T_3d4a311a_687b_11ea_ac69_94daac80a480row1_col5\" class=\"data row1 col5\" >%93.27</td>\n",
       "                        <td id=\"T_3d4a311a_687b_11ea_ac69_94daac80a480row1_col6\" class=\"data row1 col6\" >%97.31</td>\n",
       "                        <td id=\"T_3d4a311a_687b_11ea_ac69_94daac80a480row1_col7\" class=\"data row1 col7\" >%95.29</td>\n",
       "            </tr>\n",
       "            <tr>\n",
       "                        <th id=\"T_3d4a311a_687b_11ea_ac69_94daac80a480level0_row2\" class=\"row_heading level0 row2\" >Pena High School</th>\n",
       "                        <th id=\"T_3d4a311a_687b_11ea_ac69_94daac80a480level1_row2\" class=\"row_heading level1 row2\" >Charter</th>\n",
       "                        <td id=\"T_3d4a311a_687b_11ea_ac69_94daac80a480row2_col0\" class=\"data row2 col0\" >962</td>\n",
       "                        <td id=\"T_3d4a311a_687b_11ea_ac69_94daac80a480row2_col1\" class=\"data row2 col1\" >$585,858</td>\n",
       "                        <td id=\"T_3d4a311a_687b_11ea_ac69_94daac80a480row2_col2\" class=\"data row2 col2\" >$609.00</td>\n",
       "                        <td id=\"T_3d4a311a_687b_11ea_ac69_94daac80a480row2_col3\" class=\"data row2 col3\" >83.84</td>\n",
       "                        <td id=\"T_3d4a311a_687b_11ea_ac69_94daac80a480row2_col4\" class=\"data row2 col4\" >84.04</td>\n",
       "                        <td id=\"T_3d4a311a_687b_11ea_ac69_94daac80a480row2_col5\" class=\"data row2 col5\" >%94.59</td>\n",
       "                        <td id=\"T_3d4a311a_687b_11ea_ac69_94daac80a480row2_col6\" class=\"data row2 col6\" >%95.95</td>\n",
       "                        <td id=\"T_3d4a311a_687b_11ea_ac69_94daac80a480row2_col7\" class=\"data row2 col7\" >%95.27</td>\n",
       "            </tr>\n",
       "            <tr>\n",
       "                        <th id=\"T_3d4a311a_687b_11ea_ac69_94daac80a480level0_row3\" class=\"row_heading level0 row3\" >Griffin High School</th>\n",
       "                        <th id=\"T_3d4a311a_687b_11ea_ac69_94daac80a480level1_row3\" class=\"row_heading level1 row3\" >Charter</th>\n",
       "                        <td id=\"T_3d4a311a_687b_11ea_ac69_94daac80a480row3_col0\" class=\"data row3 col0\" >1,468</td>\n",
       "                        <td id=\"T_3d4a311a_687b_11ea_ac69_94daac80a480row3_col1\" class=\"data row3 col1\" >$917,500</td>\n",
       "                        <td id=\"T_3d4a311a_687b_11ea_ac69_94daac80a480row3_col2\" class=\"data row3 col2\" >$625.00</td>\n",
       "                        <td id=\"T_3d4a311a_687b_11ea_ac69_94daac80a480row3_col3\" class=\"data row3 col3\" >83.35</td>\n",
       "                        <td id=\"T_3d4a311a_687b_11ea_ac69_94daac80a480row3_col4\" class=\"data row3 col4\" >83.82</td>\n",
       "                        <td id=\"T_3d4a311a_687b_11ea_ac69_94daac80a480row3_col5\" class=\"data row3 col5\" >%93.39</td>\n",
       "                        <td id=\"T_3d4a311a_687b_11ea_ac69_94daac80a480row3_col6\" class=\"data row3 col6\" >%97.14</td>\n",
       "                        <td id=\"T_3d4a311a_687b_11ea_ac69_94daac80a480row3_col7\" class=\"data row3 col7\" >%95.27</td>\n",
       "            </tr>\n",
       "            <tr>\n",
       "                        <th id=\"T_3d4a311a_687b_11ea_ac69_94daac80a480level0_row4\" class=\"row_heading level0 row4\" >Wilson High School</th>\n",
       "                        <th id=\"T_3d4a311a_687b_11ea_ac69_94daac80a480level1_row4\" class=\"row_heading level1 row4\" >Charter</th>\n",
       "                        <td id=\"T_3d4a311a_687b_11ea_ac69_94daac80a480row4_col0\" class=\"data row4 col0\" >2,283</td>\n",
       "                        <td id=\"T_3d4a311a_687b_11ea_ac69_94daac80a480row4_col1\" class=\"data row4 col1\" >$1,319,574</td>\n",
       "                        <td id=\"T_3d4a311a_687b_11ea_ac69_94daac80a480row4_col2\" class=\"data row4 col2\" >$578.00</td>\n",
       "                        <td id=\"T_3d4a311a_687b_11ea_ac69_94daac80a480row4_col3\" class=\"data row4 col3\" >83.27</td>\n",
       "                        <td id=\"T_3d4a311a_687b_11ea_ac69_94daac80a480row4_col4\" class=\"data row4 col4\" >83.99</td>\n",
       "                        <td id=\"T_3d4a311a_687b_11ea_ac69_94daac80a480row4_col5\" class=\"data row4 col5\" >%93.87</td>\n",
       "                        <td id=\"T_3d4a311a_687b_11ea_ac69_94daac80a480row4_col6\" class=\"data row4 col6\" >%96.54</td>\n",
       "                        <td id=\"T_3d4a311a_687b_11ea_ac69_94daac80a480row4_col7\" class=\"data row4 col7\" >%95.20</td>\n",
       "            </tr>\n",
       "    </tbody></table>"
      ],
      "text/plain": [
       "<pandas.io.formats.style.Styler at 0x23242d9b108>"
      ]
     },
     "execution_count": 83,
     "metadata": {},
     "output_type": "execute_result"
    }
   ],
   "source": [
    "#  Get the top 5 schools based on Overall Passing rate\n",
    "top_perf_schools = schools_data_disp.sort_values(by=[\"Overall Passing Rate\"], ascending = False).head(5)\n",
    "\n",
    "print(\"Top 5 Schools based on Overall Passing Rate\")\n",
    "\n",
    "# Apply formatting to display the results\n",
    "top_perf_schools.style.format({\n",
    "     \"Total Students\":\"{:,}\",\n",
    "     \"Total School Budget\":\"${:,}\",\n",
    "     \"Avg Math Score\":\"{:,.2f}\",\n",
    "     \"Avg Reading Score\":\"{:,.2f}\",\n",
    "     \"Per Student Budget\":\"${:,.2f}\",\n",
    "     \"% Passing Math\":\"%{:,.2f}\",\n",
    "     \"% Passing Reading\":\"%{:,.2f}\",\n",
    "     \"Overall Passing Rate\":\"%{:,.2f}\",\n",
    "     \"No Students Passed Reading\":\"{:,.2f}\",\n",
    "     \"No Students Passed Math\":\"{:,.2f}\"\n",
    "     })"
   ]
  },
  {
   "cell_type": "markdown",
   "metadata": {},
   "source": [
    "## Bottom Performing Schools (By Passing Rate)"
   ]
  },
  {
   "cell_type": "markdown",
   "metadata": {},
   "source": [
    "* Sort and display the five worst-performing schools"
   ]
  },
  {
   "cell_type": "code",
   "execution_count": 85,
   "metadata": {},
   "outputs": [
    {
     "name": "stdout",
     "output_type": "stream",
     "text": [
      "Bottom 5 Schools based on Overall Passing Rate\n"
     ]
    },
    {
     "data": {
      "text/html": [
       "<style  type=\"text/css\" >\n",
       "</style><table id=\"T_81708e18_687b_11ea_9f65_94daac80a480\" ><thead>    <tr>        <th class=\"blank\" ></th>        <th class=\"blank level0\" ></th>        <th class=\"col_heading level0 col0\" >Total Students</th>        <th class=\"col_heading level0 col1\" >Total School Budget</th>        <th class=\"col_heading level0 col2\" >Per Student Budget</th>        <th class=\"col_heading level0 col3\" >Avg Math Score</th>        <th class=\"col_heading level0 col4\" >Avg Reading Score</th>        <th class=\"col_heading level0 col5\" >% Passing Math</th>        <th class=\"col_heading level0 col6\" >% Passing Reading</th>        <th class=\"col_heading level0 col7\" >Overall Passing Rate</th>    </tr>    <tr>        <th class=\"index_name level0\" >school_name</th>        <th class=\"index_name level1\" >type</th>        <th class=\"blank\" ></th>        <th class=\"blank\" ></th>        <th class=\"blank\" ></th>        <th class=\"blank\" ></th>        <th class=\"blank\" ></th>        <th class=\"blank\" ></th>        <th class=\"blank\" ></th>        <th class=\"blank\" ></th>    </tr></thead><tbody>\n",
       "                <tr>\n",
       "                        <th id=\"T_81708e18_687b_11ea_9f65_94daac80a480level0_row0\" class=\"row_heading level0 row0\" >Rodriguez High School</th>\n",
       "                        <th id=\"T_81708e18_687b_11ea_9f65_94daac80a480level1_row0\" class=\"row_heading level1 row0\" >District</th>\n",
       "                        <td id=\"T_81708e18_687b_11ea_9f65_94daac80a480row0_col0\" class=\"data row0 col0\" >3,999</td>\n",
       "                        <td id=\"T_81708e18_687b_11ea_9f65_94daac80a480row0_col1\" class=\"data row0 col1\" >$2,547,363</td>\n",
       "                        <td id=\"T_81708e18_687b_11ea_9f65_94daac80a480row0_col2\" class=\"data row0 col2\" >$637.00</td>\n",
       "                        <td id=\"T_81708e18_687b_11ea_9f65_94daac80a480row0_col3\" class=\"data row0 col3\" >76.84</td>\n",
       "                        <td id=\"T_81708e18_687b_11ea_9f65_94daac80a480row0_col4\" class=\"data row0 col4\" >80.74</td>\n",
       "                        <td id=\"T_81708e18_687b_11ea_9f65_94daac80a480row0_col5\" class=\"data row0 col5\" >%66.37</td>\n",
       "                        <td id=\"T_81708e18_687b_11ea_9f65_94daac80a480row0_col6\" class=\"data row0 col6\" >%80.22</td>\n",
       "                        <td id=\"T_81708e18_687b_11ea_9f65_94daac80a480row0_col7\" class=\"data row0 col7\" >%73.29</td>\n",
       "            </tr>\n",
       "            <tr>\n",
       "                        <th id=\"T_81708e18_687b_11ea_9f65_94daac80a480level0_row1\" class=\"row_heading level0 row1\" >Figueroa High School</th>\n",
       "                        <th id=\"T_81708e18_687b_11ea_9f65_94daac80a480level1_row1\" class=\"row_heading level1 row1\" >District</th>\n",
       "                        <td id=\"T_81708e18_687b_11ea_9f65_94daac80a480row1_col0\" class=\"data row1 col0\" >2,949</td>\n",
       "                        <td id=\"T_81708e18_687b_11ea_9f65_94daac80a480row1_col1\" class=\"data row1 col1\" >$1,884,411</td>\n",
       "                        <td id=\"T_81708e18_687b_11ea_9f65_94daac80a480row1_col2\" class=\"data row1 col2\" >$639.00</td>\n",
       "                        <td id=\"T_81708e18_687b_11ea_9f65_94daac80a480row1_col3\" class=\"data row1 col3\" >76.71</td>\n",
       "                        <td id=\"T_81708e18_687b_11ea_9f65_94daac80a480row1_col4\" class=\"data row1 col4\" >81.16</td>\n",
       "                        <td id=\"T_81708e18_687b_11ea_9f65_94daac80a480row1_col5\" class=\"data row1 col5\" >%65.99</td>\n",
       "                        <td id=\"T_81708e18_687b_11ea_9f65_94daac80a480row1_col6\" class=\"data row1 col6\" >%80.74</td>\n",
       "                        <td id=\"T_81708e18_687b_11ea_9f65_94daac80a480row1_col7\" class=\"data row1 col7\" >%73.36</td>\n",
       "            </tr>\n",
       "            <tr>\n",
       "                        <th id=\"T_81708e18_687b_11ea_9f65_94daac80a480level0_row2\" class=\"row_heading level0 row2\" >Huang High School</th>\n",
       "                        <th id=\"T_81708e18_687b_11ea_9f65_94daac80a480level1_row2\" class=\"row_heading level1 row2\" >District</th>\n",
       "                        <td id=\"T_81708e18_687b_11ea_9f65_94daac80a480row2_col0\" class=\"data row2 col0\" >2,917</td>\n",
       "                        <td id=\"T_81708e18_687b_11ea_9f65_94daac80a480row2_col1\" class=\"data row2 col1\" >$1,910,635</td>\n",
       "                        <td id=\"T_81708e18_687b_11ea_9f65_94daac80a480row2_col2\" class=\"data row2 col2\" >$655.00</td>\n",
       "                        <td id=\"T_81708e18_687b_11ea_9f65_94daac80a480row2_col3\" class=\"data row2 col3\" >76.63</td>\n",
       "                        <td id=\"T_81708e18_687b_11ea_9f65_94daac80a480row2_col4\" class=\"data row2 col4\" >81.18</td>\n",
       "                        <td id=\"T_81708e18_687b_11ea_9f65_94daac80a480row2_col5\" class=\"data row2 col5\" >%65.68</td>\n",
       "                        <td id=\"T_81708e18_687b_11ea_9f65_94daac80a480row2_col6\" class=\"data row2 col6\" >%81.32</td>\n",
       "                        <td id=\"T_81708e18_687b_11ea_9f65_94daac80a480row2_col7\" class=\"data row2 col7\" >%73.50</td>\n",
       "            </tr>\n",
       "            <tr>\n",
       "                        <th id=\"T_81708e18_687b_11ea_9f65_94daac80a480level0_row3\" class=\"row_heading level0 row3\" >Johnson High School</th>\n",
       "                        <th id=\"T_81708e18_687b_11ea_9f65_94daac80a480level1_row3\" class=\"row_heading level1 row3\" >District</th>\n",
       "                        <td id=\"T_81708e18_687b_11ea_9f65_94daac80a480row3_col0\" class=\"data row3 col0\" >4,761</td>\n",
       "                        <td id=\"T_81708e18_687b_11ea_9f65_94daac80a480row3_col1\" class=\"data row3 col1\" >$3,094,650</td>\n",
       "                        <td id=\"T_81708e18_687b_11ea_9f65_94daac80a480row3_col2\" class=\"data row3 col2\" >$650.00</td>\n",
       "                        <td id=\"T_81708e18_687b_11ea_9f65_94daac80a480row3_col3\" class=\"data row3 col3\" >77.07</td>\n",
       "                        <td id=\"T_81708e18_687b_11ea_9f65_94daac80a480row3_col4\" class=\"data row3 col4\" >80.97</td>\n",
       "                        <td id=\"T_81708e18_687b_11ea_9f65_94daac80a480row3_col5\" class=\"data row3 col5\" >%66.06</td>\n",
       "                        <td id=\"T_81708e18_687b_11ea_9f65_94daac80a480row3_col6\" class=\"data row3 col6\" >%81.22</td>\n",
       "                        <td id=\"T_81708e18_687b_11ea_9f65_94daac80a480row3_col7\" class=\"data row3 col7\" >%73.64</td>\n",
       "            </tr>\n",
       "            <tr>\n",
       "                        <th id=\"T_81708e18_687b_11ea_9f65_94daac80a480level0_row4\" class=\"row_heading level0 row4\" >Ford High School</th>\n",
       "                        <th id=\"T_81708e18_687b_11ea_9f65_94daac80a480level1_row4\" class=\"row_heading level1 row4\" >District</th>\n",
       "                        <td id=\"T_81708e18_687b_11ea_9f65_94daac80a480row4_col0\" class=\"data row4 col0\" >2,739</td>\n",
       "                        <td id=\"T_81708e18_687b_11ea_9f65_94daac80a480row4_col1\" class=\"data row4 col1\" >$1,763,916</td>\n",
       "                        <td id=\"T_81708e18_687b_11ea_9f65_94daac80a480row4_col2\" class=\"data row4 col2\" >$644.00</td>\n",
       "                        <td id=\"T_81708e18_687b_11ea_9f65_94daac80a480row4_col3\" class=\"data row4 col3\" >77.10</td>\n",
       "                        <td id=\"T_81708e18_687b_11ea_9f65_94daac80a480row4_col4\" class=\"data row4 col4\" >80.75</td>\n",
       "                        <td id=\"T_81708e18_687b_11ea_9f65_94daac80a480row4_col5\" class=\"data row4 col5\" >%68.31</td>\n",
       "                        <td id=\"T_81708e18_687b_11ea_9f65_94daac80a480row4_col6\" class=\"data row4 col6\" >%79.30</td>\n",
       "                        <td id=\"T_81708e18_687b_11ea_9f65_94daac80a480row4_col7\" class=\"data row4 col7\" >%73.80</td>\n",
       "            </tr>\n",
       "    </tbody></table>"
      ],
      "text/plain": [
       "<pandas.io.formats.style.Styler at 0x23242e2e608>"
      ]
     },
     "execution_count": 85,
     "metadata": {},
     "output_type": "execute_result"
    }
   ],
   "source": [
    "#  Get the bottom 5 schools based on Overall Passing rate\n",
    "top_bott_schools = schools_data_disp.sort_values(by=[\"Overall Passing Rate\"], ascending = True).head(5)\n",
    "\n",
    "print(\"Bottom 5 Schools based on Overall Passing Rate\")\n",
    "\n",
    "# Apply formatting to display the results\n",
    "top_bott_schools.style.format({\n",
    "     \"Total Students\":\"{:,}\",\n",
    "     \"Total School Budget\":\"${:,}\",\n",
    "     \"Avg Math Score\":\"{:,.2f}\",\n",
    "     \"Avg Reading Score\":\"{:,.2f}\",\n",
    "     \"Per Student Budget\":\"${:,.2f}\",\n",
    "     \"% Passing Math\":\"%{:,.2f}\",\n",
    "     \"% Passing Reading\":\"%{:,.2f}\",\n",
    "     \"Overall Passing Rate\":\"%{:,.2f}\",\n",
    "     \"No Students Passed Reading\":\"{:,.2f}\",\n",
    "     \"No Students Passed Math\":\"{:,.2f}\"\n",
    "     })"
   ]
  },
  {
   "cell_type": "markdown",
   "metadata": {
    "collapsed": true
   },
   "source": [
    "## Math Scores by Grade"
   ]
  },
  {
   "cell_type": "markdown",
   "metadata": {},
   "source": [
    "* Create a table that lists the average Reading Score for students of each grade level (9th, 10th, 11th, 12th) at each school.\n",
    "\n",
    "  * Create a pandas series for each grade. Hint: use a conditional statement.\n",
    "  \n",
    "  * Group each series by school\n",
    "  \n",
    "  * Combine the series into a dataframe\n",
    "  \n",
    "  * Optional: give the displayed data cleaner formatting"
   ]
  },
  {
   "cell_type": "code",
   "execution_count": 59,
   "metadata": {},
   "outputs": [],
   "source": [
    "# Get the average math scores for each grade \n",
    "m_9th_grade = school_data_complete.loc[school_data_complete[\"grade\"]==\"9th\"].groupby(by=[\"school_name\"])[\"math_score\"].mean()\n",
    "m_10th_grade = school_data_complete.loc[school_data_complete[\"grade\"]==\"10th\"].groupby(by=[\"school_name\"])[\"math_score\"].mean()\n",
    "m_11th_grade = school_data_complete.loc[school_data_complete[\"grade\"]==\"11th\"].groupby(by=[\"school_name\"])[\"math_score\"].mean()\n",
    "m_12th_grade = school_data_complete.loc[school_data_complete[\"grade\"]==\"12th\"].groupby(by=[\"school_name\"])[\"math_score\"].mean()\n"
   ]
  },
  {
   "cell_type": "code",
   "execution_count": 86,
   "metadata": {
    "scrolled": true
   },
   "outputs": [
    {
     "name": "stdout",
     "output_type": "stream",
     "text": [
      "Math Grades Avg per School\n"
     ]
    },
    {
     "data": {
      "text/html": [
       "<style  type=\"text/css\" >\n",
       "</style><table id=\"T_cacd36e8_687b_11ea_b0d1_94daac80a480\" ><thead>    <tr>        <th class=\"blank level0\" ></th>        <th class=\"col_heading level0 col0\" >9th</th>        <th class=\"col_heading level0 col1\" >10th</th>        <th class=\"col_heading level0 col2\" >11th</th>        <th class=\"col_heading level0 col3\" >12th</th>    </tr>    <tr>        <th class=\"index_name level0\" >school_name</th>        <th class=\"blank\" ></th>        <th class=\"blank\" ></th>        <th class=\"blank\" ></th>        <th class=\"blank\" ></th>    </tr></thead><tbody>\n",
       "                <tr>\n",
       "                        <th id=\"T_cacd36e8_687b_11ea_b0d1_94daac80a480level0_row0\" class=\"row_heading level0 row0\" >Bailey High School</th>\n",
       "                        <td id=\"T_cacd36e8_687b_11ea_b0d1_94daac80a480row0_col0\" class=\"data row0 col0\" >77.08</td>\n",
       "                        <td id=\"T_cacd36e8_687b_11ea_b0d1_94daac80a480row0_col1\" class=\"data row0 col1\" >77.00</td>\n",
       "                        <td id=\"T_cacd36e8_687b_11ea_b0d1_94daac80a480row0_col2\" class=\"data row0 col2\" >77.52</td>\n",
       "                        <td id=\"T_cacd36e8_687b_11ea_b0d1_94daac80a480row0_col3\" class=\"data row0 col3\" >76.49</td>\n",
       "            </tr>\n",
       "            <tr>\n",
       "                        <th id=\"T_cacd36e8_687b_11ea_b0d1_94daac80a480level0_row1\" class=\"row_heading level0 row1\" >Cabrera High School</th>\n",
       "                        <td id=\"T_cacd36e8_687b_11ea_b0d1_94daac80a480row1_col0\" class=\"data row1 col0\" >83.09</td>\n",
       "                        <td id=\"T_cacd36e8_687b_11ea_b0d1_94daac80a480row1_col1\" class=\"data row1 col1\" >83.15</td>\n",
       "                        <td id=\"T_cacd36e8_687b_11ea_b0d1_94daac80a480row1_col2\" class=\"data row1 col2\" >82.77</td>\n",
       "                        <td id=\"T_cacd36e8_687b_11ea_b0d1_94daac80a480row1_col3\" class=\"data row1 col3\" >83.28</td>\n",
       "            </tr>\n",
       "            <tr>\n",
       "                        <th id=\"T_cacd36e8_687b_11ea_b0d1_94daac80a480level0_row2\" class=\"row_heading level0 row2\" >Figueroa High School</th>\n",
       "                        <td id=\"T_cacd36e8_687b_11ea_b0d1_94daac80a480row2_col0\" class=\"data row2 col0\" >76.40</td>\n",
       "                        <td id=\"T_cacd36e8_687b_11ea_b0d1_94daac80a480row2_col1\" class=\"data row2 col1\" >76.54</td>\n",
       "                        <td id=\"T_cacd36e8_687b_11ea_b0d1_94daac80a480row2_col2\" class=\"data row2 col2\" >76.88</td>\n",
       "                        <td id=\"T_cacd36e8_687b_11ea_b0d1_94daac80a480row2_col3\" class=\"data row2 col3\" >77.15</td>\n",
       "            </tr>\n",
       "            <tr>\n",
       "                        <th id=\"T_cacd36e8_687b_11ea_b0d1_94daac80a480level0_row3\" class=\"row_heading level0 row3\" >Ford High School</th>\n",
       "                        <td id=\"T_cacd36e8_687b_11ea_b0d1_94daac80a480row3_col0\" class=\"data row3 col0\" >77.36</td>\n",
       "                        <td id=\"T_cacd36e8_687b_11ea_b0d1_94daac80a480row3_col1\" class=\"data row3 col1\" >77.67</td>\n",
       "                        <td id=\"T_cacd36e8_687b_11ea_b0d1_94daac80a480row3_col2\" class=\"data row3 col2\" >76.92</td>\n",
       "                        <td id=\"T_cacd36e8_687b_11ea_b0d1_94daac80a480row3_col3\" class=\"data row3 col3\" >76.18</td>\n",
       "            </tr>\n",
       "            <tr>\n",
       "                        <th id=\"T_cacd36e8_687b_11ea_b0d1_94daac80a480level0_row4\" class=\"row_heading level0 row4\" >Griffin High School</th>\n",
       "                        <td id=\"T_cacd36e8_687b_11ea_b0d1_94daac80a480row4_col0\" class=\"data row4 col0\" >82.04</td>\n",
       "                        <td id=\"T_cacd36e8_687b_11ea_b0d1_94daac80a480row4_col1\" class=\"data row4 col1\" >84.23</td>\n",
       "                        <td id=\"T_cacd36e8_687b_11ea_b0d1_94daac80a480row4_col2\" class=\"data row4 col2\" >83.84</td>\n",
       "                        <td id=\"T_cacd36e8_687b_11ea_b0d1_94daac80a480row4_col3\" class=\"data row4 col3\" >83.36</td>\n",
       "            </tr>\n",
       "            <tr>\n",
       "                        <th id=\"T_cacd36e8_687b_11ea_b0d1_94daac80a480level0_row5\" class=\"row_heading level0 row5\" >Hernandez High School</th>\n",
       "                        <td id=\"T_cacd36e8_687b_11ea_b0d1_94daac80a480row5_col0\" class=\"data row5 col0\" >77.44</td>\n",
       "                        <td id=\"T_cacd36e8_687b_11ea_b0d1_94daac80a480row5_col1\" class=\"data row5 col1\" >77.34</td>\n",
       "                        <td id=\"T_cacd36e8_687b_11ea_b0d1_94daac80a480row5_col2\" class=\"data row5 col2\" >77.14</td>\n",
       "                        <td id=\"T_cacd36e8_687b_11ea_b0d1_94daac80a480row5_col3\" class=\"data row5 col3\" >77.19</td>\n",
       "            </tr>\n",
       "            <tr>\n",
       "                        <th id=\"T_cacd36e8_687b_11ea_b0d1_94daac80a480level0_row6\" class=\"row_heading level0 row6\" >Holden High School</th>\n",
       "                        <td id=\"T_cacd36e8_687b_11ea_b0d1_94daac80a480row6_col0\" class=\"data row6 col0\" >83.79</td>\n",
       "                        <td id=\"T_cacd36e8_687b_11ea_b0d1_94daac80a480row6_col1\" class=\"data row6 col1\" >83.43</td>\n",
       "                        <td id=\"T_cacd36e8_687b_11ea_b0d1_94daac80a480row6_col2\" class=\"data row6 col2\" >85.00</td>\n",
       "                        <td id=\"T_cacd36e8_687b_11ea_b0d1_94daac80a480row6_col3\" class=\"data row6 col3\" >82.86</td>\n",
       "            </tr>\n",
       "            <tr>\n",
       "                        <th id=\"T_cacd36e8_687b_11ea_b0d1_94daac80a480level0_row7\" class=\"row_heading level0 row7\" >Huang High School</th>\n",
       "                        <td id=\"T_cacd36e8_687b_11ea_b0d1_94daac80a480row7_col0\" class=\"data row7 col0\" >77.03</td>\n",
       "                        <td id=\"T_cacd36e8_687b_11ea_b0d1_94daac80a480row7_col1\" class=\"data row7 col1\" >75.91</td>\n",
       "                        <td id=\"T_cacd36e8_687b_11ea_b0d1_94daac80a480row7_col2\" class=\"data row7 col2\" >76.45</td>\n",
       "                        <td id=\"T_cacd36e8_687b_11ea_b0d1_94daac80a480row7_col3\" class=\"data row7 col3\" >77.23</td>\n",
       "            </tr>\n",
       "            <tr>\n",
       "                        <th id=\"T_cacd36e8_687b_11ea_b0d1_94daac80a480level0_row8\" class=\"row_heading level0 row8\" >Johnson High School</th>\n",
       "                        <td id=\"T_cacd36e8_687b_11ea_b0d1_94daac80a480row8_col0\" class=\"data row8 col0\" >77.19</td>\n",
       "                        <td id=\"T_cacd36e8_687b_11ea_b0d1_94daac80a480row8_col1\" class=\"data row8 col1\" >76.69</td>\n",
       "                        <td id=\"T_cacd36e8_687b_11ea_b0d1_94daac80a480row8_col2\" class=\"data row8 col2\" >77.49</td>\n",
       "                        <td id=\"T_cacd36e8_687b_11ea_b0d1_94daac80a480row8_col3\" class=\"data row8 col3\" >76.86</td>\n",
       "            </tr>\n",
       "            <tr>\n",
       "                        <th id=\"T_cacd36e8_687b_11ea_b0d1_94daac80a480level0_row9\" class=\"row_heading level0 row9\" >Pena High School</th>\n",
       "                        <td id=\"T_cacd36e8_687b_11ea_b0d1_94daac80a480row9_col0\" class=\"data row9 col0\" >83.63</td>\n",
       "                        <td id=\"T_cacd36e8_687b_11ea_b0d1_94daac80a480row9_col1\" class=\"data row9 col1\" >83.37</td>\n",
       "                        <td id=\"T_cacd36e8_687b_11ea_b0d1_94daac80a480row9_col2\" class=\"data row9 col2\" >84.33</td>\n",
       "                        <td id=\"T_cacd36e8_687b_11ea_b0d1_94daac80a480row9_col3\" class=\"data row9 col3\" >84.12</td>\n",
       "            </tr>\n",
       "            <tr>\n",
       "                        <th id=\"T_cacd36e8_687b_11ea_b0d1_94daac80a480level0_row10\" class=\"row_heading level0 row10\" >Rodriguez High School</th>\n",
       "                        <td id=\"T_cacd36e8_687b_11ea_b0d1_94daac80a480row10_col0\" class=\"data row10 col0\" >76.86</td>\n",
       "                        <td id=\"T_cacd36e8_687b_11ea_b0d1_94daac80a480row10_col1\" class=\"data row10 col1\" >76.61</td>\n",
       "                        <td id=\"T_cacd36e8_687b_11ea_b0d1_94daac80a480row10_col2\" class=\"data row10 col2\" >76.40</td>\n",
       "                        <td id=\"T_cacd36e8_687b_11ea_b0d1_94daac80a480row10_col3\" class=\"data row10 col3\" >77.69</td>\n",
       "            </tr>\n",
       "            <tr>\n",
       "                        <th id=\"T_cacd36e8_687b_11ea_b0d1_94daac80a480level0_row11\" class=\"row_heading level0 row11\" >Shelton High School</th>\n",
       "                        <td id=\"T_cacd36e8_687b_11ea_b0d1_94daac80a480row11_col0\" class=\"data row11 col0\" >83.42</td>\n",
       "                        <td id=\"T_cacd36e8_687b_11ea_b0d1_94daac80a480row11_col1\" class=\"data row11 col1\" >82.92</td>\n",
       "                        <td id=\"T_cacd36e8_687b_11ea_b0d1_94daac80a480row11_col2\" class=\"data row11 col2\" >83.38</td>\n",
       "                        <td id=\"T_cacd36e8_687b_11ea_b0d1_94daac80a480row11_col3\" class=\"data row11 col3\" >83.78</td>\n",
       "            </tr>\n",
       "            <tr>\n",
       "                        <th id=\"T_cacd36e8_687b_11ea_b0d1_94daac80a480level0_row12\" class=\"row_heading level0 row12\" >Thomas High School</th>\n",
       "                        <td id=\"T_cacd36e8_687b_11ea_b0d1_94daac80a480row12_col0\" class=\"data row12 col0\" >83.59</td>\n",
       "                        <td id=\"T_cacd36e8_687b_11ea_b0d1_94daac80a480row12_col1\" class=\"data row12 col1\" >83.09</td>\n",
       "                        <td id=\"T_cacd36e8_687b_11ea_b0d1_94daac80a480row12_col2\" class=\"data row12 col2\" >83.50</td>\n",
       "                        <td id=\"T_cacd36e8_687b_11ea_b0d1_94daac80a480row12_col3\" class=\"data row12 col3\" >83.50</td>\n",
       "            </tr>\n",
       "            <tr>\n",
       "                        <th id=\"T_cacd36e8_687b_11ea_b0d1_94daac80a480level0_row13\" class=\"row_heading level0 row13\" >Wilson High School</th>\n",
       "                        <td id=\"T_cacd36e8_687b_11ea_b0d1_94daac80a480row13_col0\" class=\"data row13 col0\" >83.09</td>\n",
       "                        <td id=\"T_cacd36e8_687b_11ea_b0d1_94daac80a480row13_col1\" class=\"data row13 col1\" >83.72</td>\n",
       "                        <td id=\"T_cacd36e8_687b_11ea_b0d1_94daac80a480row13_col2\" class=\"data row13 col2\" >83.20</td>\n",
       "                        <td id=\"T_cacd36e8_687b_11ea_b0d1_94daac80a480row13_col3\" class=\"data row13 col3\" >83.04</td>\n",
       "            </tr>\n",
       "            <tr>\n",
       "                        <th id=\"T_cacd36e8_687b_11ea_b0d1_94daac80a480level0_row14\" class=\"row_heading level0 row14\" >Wright High School</th>\n",
       "                        <td id=\"T_cacd36e8_687b_11ea_b0d1_94daac80a480row14_col0\" class=\"data row14 col0\" >83.26</td>\n",
       "                        <td id=\"T_cacd36e8_687b_11ea_b0d1_94daac80a480row14_col1\" class=\"data row14 col1\" >84.01</td>\n",
       "                        <td id=\"T_cacd36e8_687b_11ea_b0d1_94daac80a480row14_col2\" class=\"data row14 col2\" >83.84</td>\n",
       "                        <td id=\"T_cacd36e8_687b_11ea_b0d1_94daac80a480row14_col3\" class=\"data row14 col3\" >83.64</td>\n",
       "            </tr>\n",
       "    </tbody></table>"
      ],
      "text/plain": [
       "<pandas.io.formats.style.Styler at 0x23242beab88>"
      ]
     },
     "execution_count": 86,
     "metadata": {},
     "output_type": "execute_result"
    }
   ],
   "source": [
    "# Combine series to create a single DataFrame\n",
    "grades_data = {\"9th\":m_9th_grade,\n",
    "               \"10th\":m_10th_grade,\n",
    "               \"11th\":m_11th_grade, \n",
    "               \"12th\":m_12th_grade}\n",
    "\n",
    "math_grades = pd.DataFrame(grades_data)\n",
    "\n",
    "print(\"Math Grades Avg per School\")\n",
    "\n",
    "# Apply formatting to display the results\n",
    "math_grades.style.format({\n",
    "     \"9th\":\"{:,.2f}\",\n",
    "     \"10th\":\"{:,.2f}\",\n",
    "     \"11th\":\"{:,.2f}\",\n",
    "     \"12th\":\"{:,.2f}\"\n",
    "     })\n"
   ]
  },
  {
   "cell_type": "markdown",
   "metadata": {},
   "source": [
    "## Reading Score by Grade "
   ]
  },
  {
   "cell_type": "markdown",
   "metadata": {},
   "source": [
    "* Perform the same operations as above for reading scores"
   ]
  },
  {
   "cell_type": "code",
   "execution_count": 87,
   "metadata": {},
   "outputs": [],
   "source": [
    "# Get the average reading scores for each grade \n",
    "r_9th_grade = school_data_complete.loc[school_data_complete[\"grade\"]==\"9th\"].groupby(by=[\"school_name\"])[\"reading_score\"].mean()\n",
    "r_10th_grade = school_data_complete.loc[school_data_complete[\"grade\"]==\"10th\"].groupby(by=[\"school_name\"])[\"reading_score\"].mean()\n",
    "r_11th_grade = school_data_complete.loc[school_data_complete[\"grade\"]==\"11th\"].groupby(by=[\"school_name\"])[\"reading_score\"].mean()\n",
    "r_12th_grade = school_data_complete.loc[school_data_complete[\"grade\"]==\"12th\"].groupby(by=[\"school_name\"])[\"reading_score\"].mean()"
   ]
  },
  {
   "cell_type": "code",
   "execution_count": 88,
   "metadata": {},
   "outputs": [
    {
     "name": "stdout",
     "output_type": "stream",
     "text": [
      "Reading Grades Avg per School\n"
     ]
    },
    {
     "data": {
      "text/html": [
       "<style  type=\"text/css\" >\n",
       "</style><table id=\"T_d6a5d45e_687b_11ea_b8f3_94daac80a480\" ><thead>    <tr>        <th class=\"blank level0\" ></th>        <th class=\"col_heading level0 col0\" >9th</th>        <th class=\"col_heading level0 col1\" >10th</th>        <th class=\"col_heading level0 col2\" >11th</th>        <th class=\"col_heading level0 col3\" >12th</th>    </tr>    <tr>        <th class=\"index_name level0\" >school_name</th>        <th class=\"blank\" ></th>        <th class=\"blank\" ></th>        <th class=\"blank\" ></th>        <th class=\"blank\" ></th>    </tr></thead><tbody>\n",
       "                <tr>\n",
       "                        <th id=\"T_d6a5d45e_687b_11ea_b8f3_94daac80a480level0_row0\" class=\"row_heading level0 row0\" >Bailey High School</th>\n",
       "                        <td id=\"T_d6a5d45e_687b_11ea_b8f3_94daac80a480row0_col0\" class=\"data row0 col0\" >81.30</td>\n",
       "                        <td id=\"T_d6a5d45e_687b_11ea_b8f3_94daac80a480row0_col1\" class=\"data row0 col1\" >80.91</td>\n",
       "                        <td id=\"T_d6a5d45e_687b_11ea_b8f3_94daac80a480row0_col2\" class=\"data row0 col2\" >80.95</td>\n",
       "                        <td id=\"T_d6a5d45e_687b_11ea_b8f3_94daac80a480row0_col3\" class=\"data row0 col3\" >80.91</td>\n",
       "            </tr>\n",
       "            <tr>\n",
       "                        <th id=\"T_d6a5d45e_687b_11ea_b8f3_94daac80a480level0_row1\" class=\"row_heading level0 row1\" >Cabrera High School</th>\n",
       "                        <td id=\"T_d6a5d45e_687b_11ea_b8f3_94daac80a480row1_col0\" class=\"data row1 col0\" >83.68</td>\n",
       "                        <td id=\"T_d6a5d45e_687b_11ea_b8f3_94daac80a480row1_col1\" class=\"data row1 col1\" >84.25</td>\n",
       "                        <td id=\"T_d6a5d45e_687b_11ea_b8f3_94daac80a480row1_col2\" class=\"data row1 col2\" >83.79</td>\n",
       "                        <td id=\"T_d6a5d45e_687b_11ea_b8f3_94daac80a480row1_col3\" class=\"data row1 col3\" >84.29</td>\n",
       "            </tr>\n",
       "            <tr>\n",
       "                        <th id=\"T_d6a5d45e_687b_11ea_b8f3_94daac80a480level0_row2\" class=\"row_heading level0 row2\" >Figueroa High School</th>\n",
       "                        <td id=\"T_d6a5d45e_687b_11ea_b8f3_94daac80a480row2_col0\" class=\"data row2 col0\" >81.20</td>\n",
       "                        <td id=\"T_d6a5d45e_687b_11ea_b8f3_94daac80a480row2_col1\" class=\"data row2 col1\" >81.41</td>\n",
       "                        <td id=\"T_d6a5d45e_687b_11ea_b8f3_94daac80a480row2_col2\" class=\"data row2 col2\" >80.64</td>\n",
       "                        <td id=\"T_d6a5d45e_687b_11ea_b8f3_94daac80a480row2_col3\" class=\"data row2 col3\" >81.38</td>\n",
       "            </tr>\n",
       "            <tr>\n",
       "                        <th id=\"T_d6a5d45e_687b_11ea_b8f3_94daac80a480level0_row3\" class=\"row_heading level0 row3\" >Ford High School</th>\n",
       "                        <td id=\"T_d6a5d45e_687b_11ea_b8f3_94daac80a480row3_col0\" class=\"data row3 col0\" >80.63</td>\n",
       "                        <td id=\"T_d6a5d45e_687b_11ea_b8f3_94daac80a480row3_col1\" class=\"data row3 col1\" >81.26</td>\n",
       "                        <td id=\"T_d6a5d45e_687b_11ea_b8f3_94daac80a480row3_col2\" class=\"data row3 col2\" >80.40</td>\n",
       "                        <td id=\"T_d6a5d45e_687b_11ea_b8f3_94daac80a480row3_col3\" class=\"data row3 col3\" >80.66</td>\n",
       "            </tr>\n",
       "            <tr>\n",
       "                        <th id=\"T_d6a5d45e_687b_11ea_b8f3_94daac80a480level0_row4\" class=\"row_heading level0 row4\" >Griffin High School</th>\n",
       "                        <td id=\"T_d6a5d45e_687b_11ea_b8f3_94daac80a480row4_col0\" class=\"data row4 col0\" >83.37</td>\n",
       "                        <td id=\"T_d6a5d45e_687b_11ea_b8f3_94daac80a480row4_col1\" class=\"data row4 col1\" >83.71</td>\n",
       "                        <td id=\"T_d6a5d45e_687b_11ea_b8f3_94daac80a480row4_col2\" class=\"data row4 col2\" >84.29</td>\n",
       "                        <td id=\"T_d6a5d45e_687b_11ea_b8f3_94daac80a480row4_col3\" class=\"data row4 col3\" >84.01</td>\n",
       "            </tr>\n",
       "            <tr>\n",
       "                        <th id=\"T_d6a5d45e_687b_11ea_b8f3_94daac80a480level0_row5\" class=\"row_heading level0 row5\" >Hernandez High School</th>\n",
       "                        <td id=\"T_d6a5d45e_687b_11ea_b8f3_94daac80a480row5_col0\" class=\"data row5 col0\" >80.87</td>\n",
       "                        <td id=\"T_d6a5d45e_687b_11ea_b8f3_94daac80a480row5_col1\" class=\"data row5 col1\" >80.66</td>\n",
       "                        <td id=\"T_d6a5d45e_687b_11ea_b8f3_94daac80a480row5_col2\" class=\"data row5 col2\" >81.40</td>\n",
       "                        <td id=\"T_d6a5d45e_687b_11ea_b8f3_94daac80a480row5_col3\" class=\"data row5 col3\" >80.86</td>\n",
       "            </tr>\n",
       "            <tr>\n",
       "                        <th id=\"T_d6a5d45e_687b_11ea_b8f3_94daac80a480level0_row6\" class=\"row_heading level0 row6\" >Holden High School</th>\n",
       "                        <td id=\"T_d6a5d45e_687b_11ea_b8f3_94daac80a480row6_col0\" class=\"data row6 col0\" >83.68</td>\n",
       "                        <td id=\"T_d6a5d45e_687b_11ea_b8f3_94daac80a480row6_col1\" class=\"data row6 col1\" >83.32</td>\n",
       "                        <td id=\"T_d6a5d45e_687b_11ea_b8f3_94daac80a480row6_col2\" class=\"data row6 col2\" >83.82</td>\n",
       "                        <td id=\"T_d6a5d45e_687b_11ea_b8f3_94daac80a480row6_col3\" class=\"data row6 col3\" >84.70</td>\n",
       "            </tr>\n",
       "            <tr>\n",
       "                        <th id=\"T_d6a5d45e_687b_11ea_b8f3_94daac80a480level0_row7\" class=\"row_heading level0 row7\" >Huang High School</th>\n",
       "                        <td id=\"T_d6a5d45e_687b_11ea_b8f3_94daac80a480row7_col0\" class=\"data row7 col0\" >81.29</td>\n",
       "                        <td id=\"T_d6a5d45e_687b_11ea_b8f3_94daac80a480row7_col1\" class=\"data row7 col1\" >81.51</td>\n",
       "                        <td id=\"T_d6a5d45e_687b_11ea_b8f3_94daac80a480row7_col2\" class=\"data row7 col2\" >81.42</td>\n",
       "                        <td id=\"T_d6a5d45e_687b_11ea_b8f3_94daac80a480row7_col3\" class=\"data row7 col3\" >80.31</td>\n",
       "            </tr>\n",
       "            <tr>\n",
       "                        <th id=\"T_d6a5d45e_687b_11ea_b8f3_94daac80a480level0_row8\" class=\"row_heading level0 row8\" >Johnson High School</th>\n",
       "                        <td id=\"T_d6a5d45e_687b_11ea_b8f3_94daac80a480row8_col0\" class=\"data row8 col0\" >81.26</td>\n",
       "                        <td id=\"T_d6a5d45e_687b_11ea_b8f3_94daac80a480row8_col1\" class=\"data row8 col1\" >80.77</td>\n",
       "                        <td id=\"T_d6a5d45e_687b_11ea_b8f3_94daac80a480row8_col2\" class=\"data row8 col2\" >80.62</td>\n",
       "                        <td id=\"T_d6a5d45e_687b_11ea_b8f3_94daac80a480row8_col3\" class=\"data row8 col3\" >81.23</td>\n",
       "            </tr>\n",
       "            <tr>\n",
       "                        <th id=\"T_d6a5d45e_687b_11ea_b8f3_94daac80a480level0_row9\" class=\"row_heading level0 row9\" >Pena High School</th>\n",
       "                        <td id=\"T_d6a5d45e_687b_11ea_b8f3_94daac80a480row9_col0\" class=\"data row9 col0\" >83.81</td>\n",
       "                        <td id=\"T_d6a5d45e_687b_11ea_b8f3_94daac80a480row9_col1\" class=\"data row9 col1\" >83.61</td>\n",
       "                        <td id=\"T_d6a5d45e_687b_11ea_b8f3_94daac80a480row9_col2\" class=\"data row9 col2\" >84.34</td>\n",
       "                        <td id=\"T_d6a5d45e_687b_11ea_b8f3_94daac80a480row9_col3\" class=\"data row9 col3\" >84.59</td>\n",
       "            </tr>\n",
       "            <tr>\n",
       "                        <th id=\"T_d6a5d45e_687b_11ea_b8f3_94daac80a480level0_row10\" class=\"row_heading level0 row10\" >Rodriguez High School</th>\n",
       "                        <td id=\"T_d6a5d45e_687b_11ea_b8f3_94daac80a480row10_col0\" class=\"data row10 col0\" >80.99</td>\n",
       "                        <td id=\"T_d6a5d45e_687b_11ea_b8f3_94daac80a480row10_col1\" class=\"data row10 col1\" >80.63</td>\n",
       "                        <td id=\"T_d6a5d45e_687b_11ea_b8f3_94daac80a480row10_col2\" class=\"data row10 col2\" >80.86</td>\n",
       "                        <td id=\"T_d6a5d45e_687b_11ea_b8f3_94daac80a480row10_col3\" class=\"data row10 col3\" >80.38</td>\n",
       "            </tr>\n",
       "            <tr>\n",
       "                        <th id=\"T_d6a5d45e_687b_11ea_b8f3_94daac80a480level0_row11\" class=\"row_heading level0 row11\" >Shelton High School</th>\n",
       "                        <td id=\"T_d6a5d45e_687b_11ea_b8f3_94daac80a480row11_col0\" class=\"data row11 col0\" >84.12</td>\n",
       "                        <td id=\"T_d6a5d45e_687b_11ea_b8f3_94daac80a480row11_col1\" class=\"data row11 col1\" >83.44</td>\n",
       "                        <td id=\"T_d6a5d45e_687b_11ea_b8f3_94daac80a480row11_col2\" class=\"data row11 col2\" >84.37</td>\n",
       "                        <td id=\"T_d6a5d45e_687b_11ea_b8f3_94daac80a480row11_col3\" class=\"data row11 col3\" >82.78</td>\n",
       "            </tr>\n",
       "            <tr>\n",
       "                        <th id=\"T_d6a5d45e_687b_11ea_b8f3_94daac80a480level0_row12\" class=\"row_heading level0 row12\" >Thomas High School</th>\n",
       "                        <td id=\"T_d6a5d45e_687b_11ea_b8f3_94daac80a480row12_col0\" class=\"data row12 col0\" >83.73</td>\n",
       "                        <td id=\"T_d6a5d45e_687b_11ea_b8f3_94daac80a480row12_col1\" class=\"data row12 col1\" >84.25</td>\n",
       "                        <td id=\"T_d6a5d45e_687b_11ea_b8f3_94daac80a480row12_col2\" class=\"data row12 col2\" >83.59</td>\n",
       "                        <td id=\"T_d6a5d45e_687b_11ea_b8f3_94daac80a480row12_col3\" class=\"data row12 col3\" >83.83</td>\n",
       "            </tr>\n",
       "            <tr>\n",
       "                        <th id=\"T_d6a5d45e_687b_11ea_b8f3_94daac80a480level0_row13\" class=\"row_heading level0 row13\" >Wilson High School</th>\n",
       "                        <td id=\"T_d6a5d45e_687b_11ea_b8f3_94daac80a480row13_col0\" class=\"data row13 col0\" >83.94</td>\n",
       "                        <td id=\"T_d6a5d45e_687b_11ea_b8f3_94daac80a480row13_col1\" class=\"data row13 col1\" >84.02</td>\n",
       "                        <td id=\"T_d6a5d45e_687b_11ea_b8f3_94daac80a480row13_col2\" class=\"data row13 col2\" >83.76</td>\n",
       "                        <td id=\"T_d6a5d45e_687b_11ea_b8f3_94daac80a480row13_col3\" class=\"data row13 col3\" >84.32</td>\n",
       "            </tr>\n",
       "            <tr>\n",
       "                        <th id=\"T_d6a5d45e_687b_11ea_b8f3_94daac80a480level0_row14\" class=\"row_heading level0 row14\" >Wright High School</th>\n",
       "                        <td id=\"T_d6a5d45e_687b_11ea_b8f3_94daac80a480row14_col0\" class=\"data row14 col0\" >83.83</td>\n",
       "                        <td id=\"T_d6a5d45e_687b_11ea_b8f3_94daac80a480row14_col1\" class=\"data row14 col1\" >83.81</td>\n",
       "                        <td id=\"T_d6a5d45e_687b_11ea_b8f3_94daac80a480row14_col2\" class=\"data row14 col2\" >84.16</td>\n",
       "                        <td id=\"T_d6a5d45e_687b_11ea_b8f3_94daac80a480row14_col3\" class=\"data row14 col3\" >84.07</td>\n",
       "            </tr>\n",
       "    </tbody></table>"
      ],
      "text/plain": [
       "<pandas.io.formats.style.Styler at 0x23242e38f48>"
      ]
     },
     "execution_count": 88,
     "metadata": {},
     "output_type": "execute_result"
    }
   ],
   "source": [
    "# Combine series\n",
    "grades_read_data = {\"9th\":r_9th_grade,\n",
    "         \"10th\":r_10th_grade,\n",
    "         \"11th\":r_11th_grade, \n",
    "         \"12th\":r_12th_grade}\n",
    "\n",
    "reading_data = pd.DataFrame(grades_read_data)\n",
    "\n",
    "print(\"Reading Grades Avg per School\")\n",
    "\n",
    "reading_data.style.format({\n",
    "     \"9th\":\"{:,.2f}\",\n",
    "     \"10th\":\"{:,.2f}\",\n",
    "     \"11th\":\"{:,.2f}\",\n",
    "     \"12th\":\"{:,.2f}\"\n",
    "     })\n"
   ]
  },
  {
   "cell_type": "markdown",
   "metadata": {},
   "source": [
    "## Scores by School Spending"
   ]
  },
  {
   "cell_type": "markdown",
   "metadata": {},
   "source": [
    "* Create a table that breaks down school performances based on average Spending Ranges (Per Student). Use 4 reasonable bins to group school spending. Include in the table each of the following:\n",
    "  * Average Math Score\n",
    "  * Average Reading Score\n",
    "  * % Passing Math\n",
    "  * % Passing Reading\n",
    "  * Overall Passing Rate (Average of the above two)"
   ]
  },
  {
   "cell_type": "code",
   "execution_count": 89,
   "metadata": {},
   "outputs": [],
   "source": [
    "# Sample bins. Feel free to create your own bins.\n",
    "spending_bins = [0, 585, 615, 645, 675]\n",
    "group_names = [\"<$585\", \"$585-615\", \"$615-645\", \"$645-675\"]"
   ]
  },
  {
   "cell_type": "code",
   "execution_count": 90,
   "metadata": {
    "scrolled": true
   },
   "outputs": [],
   "source": [
    "# Get the columns to display and use for categorization\n",
    "school_spending = schools_data.loc[:,[\"Avg Math Score\",\n",
    "                                  \"Avg Reading Score\",\n",
    "                                  \"Per Student Budget\",\n",
    "                                  \"% Passing Math\",\n",
    "                                  \"% Passing Reading\",\n",
    "                                  \"Overall Passing Rate\"]]\n",
    "# Set categories \n",
    "school_spending[\"Category\"] = pd.cut(school_spending[\"Per Student Budget\"], bins=spending_bins, labels=group_names )"
   ]
  },
  {
   "cell_type": "code",
   "execution_count": 92,
   "metadata": {
    "scrolled": true
   },
   "outputs": [
    {
     "data": {
      "text/html": [
       "<style  type=\"text/css\" >\n",
       "</style><table id=\"T_3eabdb54_687c_11ea_b5a5_94daac80a480\" ><thead>    <tr>        <th class=\"blank level0\" ></th>        <th class=\"col_heading level0 col0\" >Avg Math Score</th>        <th class=\"col_heading level0 col1\" >Avg Reading Score</th>        <th class=\"col_heading level0 col2\" >Per Student Budget</th>        <th class=\"col_heading level0 col3\" >% Passing Math</th>        <th class=\"col_heading level0 col4\" >% Passing Reading</th>        <th class=\"col_heading level0 col5\" >Overall Passing Rate</th>    </tr>    <tr>        <th class=\"index_name level0\" >Category</th>        <th class=\"blank\" ></th>        <th class=\"blank\" ></th>        <th class=\"blank\" ></th>        <th class=\"blank\" ></th>        <th class=\"blank\" ></th>        <th class=\"blank\" ></th>    </tr></thead><tbody>\n",
       "                <tr>\n",
       "                        <th id=\"T_3eabdb54_687c_11ea_b5a5_94daac80a480level0_row0\" class=\"row_heading level0 row0\" ><$585</th>\n",
       "                        <td id=\"T_3eabdb54_687c_11ea_b5a5_94daac80a480row0_col0\" class=\"data row0 col0\" >83.46</td>\n",
       "                        <td id=\"T_3eabdb54_687c_11ea_b5a5_94daac80a480row0_col1\" class=\"data row0 col1\" >83.93</td>\n",
       "                        <td id=\"T_3eabdb54_687c_11ea_b5a5_94daac80a480row0_col2\" class=\"data row0 col2\" >$581.00</td>\n",
       "                        <td id=\"T_3eabdb54_687c_11ea_b5a5_94daac80a480row0_col3\" class=\"data row0 col3\" >%93.46</td>\n",
       "                        <td id=\"T_3eabdb54_687c_11ea_b5a5_94daac80a480row0_col4\" class=\"data row0 col4\" >%96.61</td>\n",
       "                        <td id=\"T_3eabdb54_687c_11ea_b5a5_94daac80a480row0_col5\" class=\"data row0 col5\" >%95.04</td>\n",
       "            </tr>\n",
       "            <tr>\n",
       "                        <th id=\"T_3eabdb54_687c_11ea_b5a5_94daac80a480level0_row1\" class=\"row_heading level0 row1\" >$585-615</th>\n",
       "                        <td id=\"T_3eabdb54_687c_11ea_b5a5_94daac80a480row1_col0\" class=\"data row1 col0\" >83.60</td>\n",
       "                        <td id=\"T_3eabdb54_687c_11ea_b5a5_94daac80a480row1_col1\" class=\"data row1 col1\" >83.89</td>\n",
       "                        <td id=\"T_3eabdb54_687c_11ea_b5a5_94daac80a480row1_col2\" class=\"data row1 col2\" >$604.50</td>\n",
       "                        <td id=\"T_3eabdb54_687c_11ea_b5a5_94daac80a480row1_col3\" class=\"data row1 col3\" >%94.23</td>\n",
       "                        <td id=\"T_3eabdb54_687c_11ea_b5a5_94daac80a480row1_col4\" class=\"data row1 col4\" >%95.90</td>\n",
       "                        <td id=\"T_3eabdb54_687c_11ea_b5a5_94daac80a480row1_col5\" class=\"data row1 col5\" >%95.07</td>\n",
       "            </tr>\n",
       "            <tr>\n",
       "                        <th id=\"T_3eabdb54_687c_11ea_b5a5_94daac80a480level0_row2\" class=\"row_heading level0 row2\" >$615-645</th>\n",
       "                        <td id=\"T_3eabdb54_687c_11ea_b5a5_94daac80a480row2_col0\" class=\"data row2 col0\" >79.08</td>\n",
       "                        <td id=\"T_3eabdb54_687c_11ea_b5a5_94daac80a480row2_col1\" class=\"data row2 col1\" >81.89</td>\n",
       "                        <td id=\"T_3eabdb54_687c_11ea_b5a5_94daac80a480row2_col2\" class=\"data row2 col2\" >$635.17</td>\n",
       "                        <td id=\"T_3eabdb54_687c_11ea_b5a5_94daac80a480row2_col3\" class=\"data row2 col3\" >%75.67</td>\n",
       "                        <td id=\"T_3eabdb54_687c_11ea_b5a5_94daac80a480row2_col4\" class=\"data row2 col4\" >%86.11</td>\n",
       "                        <td id=\"T_3eabdb54_687c_11ea_b5a5_94daac80a480row2_col5\" class=\"data row2 col5\" >%80.89</td>\n",
       "            </tr>\n",
       "            <tr>\n",
       "                        <th id=\"T_3eabdb54_687c_11ea_b5a5_94daac80a480level0_row3\" class=\"row_heading level0 row3\" >$645-675</th>\n",
       "                        <td id=\"T_3eabdb54_687c_11ea_b5a5_94daac80a480row3_col0\" class=\"data row3 col0\" >77.00</td>\n",
       "                        <td id=\"T_3eabdb54_687c_11ea_b5a5_94daac80a480row3_col1\" class=\"data row3 col1\" >81.03</td>\n",
       "                        <td id=\"T_3eabdb54_687c_11ea_b5a5_94daac80a480row3_col2\" class=\"data row3 col2\" >$652.33</td>\n",
       "                        <td id=\"T_3eabdb54_687c_11ea_b5a5_94daac80a480row3_col3\" class=\"data row3 col3\" >%66.16</td>\n",
       "                        <td id=\"T_3eabdb54_687c_11ea_b5a5_94daac80a480row3_col4\" class=\"data row3 col4\" >%81.13</td>\n",
       "                        <td id=\"T_3eabdb54_687c_11ea_b5a5_94daac80a480row3_col5\" class=\"data row3 col5\" >%73.65</td>\n",
       "            </tr>\n",
       "    </tbody></table>"
      ],
      "text/plain": [
       "<pandas.io.formats.style.Styler at 0x23243fd7f88>"
      ]
     },
     "execution_count": 92,
     "metadata": {},
     "output_type": "execute_result"
    }
   ],
   "source": [
    "# Calculate means according to the category\n",
    "schoolsSpendingData = school_spending.groupby(by=\"Category\").mean()\n",
    "\n",
    "# Apply formatting to display results\n",
    "schoolsSpendingData.style.format({\n",
    "     \"Avg Math Score\":\"{:,.2f}\",\n",
    "     \"Avg Reading Score\":\"{:,.2f}\",\n",
    "     \"Per Student Budget\":\"${:,.2f}\",\n",
    "     \"% Passing Math\":\"%{:,.2f}\",\n",
    "     \"% Passing Reading\":\"%{:,.2f}\",\n",
    "     \"Overall Passing Rate\":\"%{:,.2f}\"\n",
    "     })\n"
   ]
  },
  {
   "cell_type": "markdown",
   "metadata": {},
   "source": [
    "## Scores by School Size"
   ]
  },
  {
   "cell_type": "markdown",
   "metadata": {},
   "source": [
    "* Perform the same operations as above, based on school size."
   ]
  },
  {
   "cell_type": "code",
   "execution_count": 93,
   "metadata": {},
   "outputs": [],
   "source": [
    "# Sample bins. Feel free to create your own bins.\n",
    "size_bins = [0, 1000, 2000, 5000]\n",
    "group_names = [\"Small (<1000)\", \"Medium (1000-2000)\", \"Large (2000-5000)\"]"
   ]
  },
  {
   "cell_type": "code",
   "execution_count": 96,
   "metadata": {
    "scrolled": true
   },
   "outputs": [],
   "source": [
    "# Get the columns to display and use for categorization\n",
    "school_size = schools_data.loc[:,[\"Avg Math Score\",\n",
    "                                  \"Avg Reading Score\",\n",
    "                                  \"% Passing Math\",\n",
    "                                  \"% Passing Reading\",\n",
    "                                  \"Overall Passing Rate\"]]\n",
    "\n",
    "# Set categories \n",
    "school_size[\"Category\"] = pd.cut(schools_data[\"Total Students\"], bins=size_bins, labels=group_names)"
   ]
  },
  {
   "cell_type": "code",
   "execution_count": 97,
   "metadata": {},
   "outputs": [
    {
     "data": {
      "text/html": [
       "<style  type=\"text/css\" >\n",
       "</style><table id=\"T_94aa4564_687c_11ea_8b05_94daac80a480\" ><thead>    <tr>        <th class=\"blank level0\" ></th>        <th class=\"col_heading level0 col0\" >Avg Math Score</th>        <th class=\"col_heading level0 col1\" >Avg Reading Score</th>        <th class=\"col_heading level0 col2\" >% Passing Math</th>        <th class=\"col_heading level0 col3\" >% Passing Reading</th>        <th class=\"col_heading level0 col4\" >Overall Passing Rate</th>    </tr>    <tr>        <th class=\"index_name level0\" >Category</th>        <th class=\"blank\" ></th>        <th class=\"blank\" ></th>        <th class=\"blank\" ></th>        <th class=\"blank\" ></th>        <th class=\"blank\" ></th>    </tr></thead><tbody>\n",
       "                <tr>\n",
       "                        <th id=\"T_94aa4564_687c_11ea_8b05_94daac80a480level0_row0\" class=\"row_heading level0 row0\" >Small (<1000)</th>\n",
       "                        <td id=\"T_94aa4564_687c_11ea_8b05_94daac80a480row0_col0\" class=\"data row0 col0\" >83.82</td>\n",
       "                        <td id=\"T_94aa4564_687c_11ea_8b05_94daac80a480row0_col1\" class=\"data row0 col1\" >83.93</td>\n",
       "                        <td id=\"T_94aa4564_687c_11ea_8b05_94daac80a480row0_col2\" class=\"data row0 col2\" >%93.55</td>\n",
       "                        <td id=\"T_94aa4564_687c_11ea_8b05_94daac80a480row0_col3\" class=\"data row0 col3\" >%96.10</td>\n",
       "                        <td id=\"T_94aa4564_687c_11ea_8b05_94daac80a480row0_col4\" class=\"data row0 col4\" >%94.82</td>\n",
       "            </tr>\n",
       "            <tr>\n",
       "                        <th id=\"T_94aa4564_687c_11ea_8b05_94daac80a480level0_row1\" class=\"row_heading level0 row1\" >Medium (1000-2000)</th>\n",
       "                        <td id=\"T_94aa4564_687c_11ea_8b05_94daac80a480row1_col0\" class=\"data row1 col0\" >83.37</td>\n",
       "                        <td id=\"T_94aa4564_687c_11ea_8b05_94daac80a480row1_col1\" class=\"data row1 col1\" >83.86</td>\n",
       "                        <td id=\"T_94aa4564_687c_11ea_8b05_94daac80a480row1_col2\" class=\"data row1 col2\" >%93.60</td>\n",
       "                        <td id=\"T_94aa4564_687c_11ea_8b05_94daac80a480row1_col3\" class=\"data row1 col3\" >%96.79</td>\n",
       "                        <td id=\"T_94aa4564_687c_11ea_8b05_94daac80a480row1_col4\" class=\"data row1 col4\" >%95.20</td>\n",
       "            </tr>\n",
       "            <tr>\n",
       "                        <th id=\"T_94aa4564_687c_11ea_8b05_94daac80a480level0_row2\" class=\"row_heading level0 row2\" >Large (2000-5000)</th>\n",
       "                        <td id=\"T_94aa4564_687c_11ea_8b05_94daac80a480row2_col0\" class=\"data row2 col0\" >77.75</td>\n",
       "                        <td id=\"T_94aa4564_687c_11ea_8b05_94daac80a480row2_col1\" class=\"data row2 col1\" >81.34</td>\n",
       "                        <td id=\"T_94aa4564_687c_11ea_8b05_94daac80a480row2_col2\" class=\"data row2 col2\" >%69.96</td>\n",
       "                        <td id=\"T_94aa4564_687c_11ea_8b05_94daac80a480row2_col3\" class=\"data row2 col3\" >%82.77</td>\n",
       "                        <td id=\"T_94aa4564_687c_11ea_8b05_94daac80a480row2_col4\" class=\"data row2 col4\" >%76.36</td>\n",
       "            </tr>\n",
       "    </tbody></table>"
      ],
      "text/plain": [
       "<pandas.io.formats.style.Styler at 0x23243fe4948>"
      ]
     },
     "execution_count": 97,
     "metadata": {},
     "output_type": "execute_result"
    }
   ],
   "source": [
    "# Calculate means according to the category\n",
    "schoolsSizeData = school_size.groupby(by=\"Category\").mean()\n",
    "\n",
    "# Apply formatting to display results\n",
    "schoolsSizeData.style.format({\n",
    "     \"Avg Math Score\":\"{:,.2f}\",\n",
    "     \"Avg Reading Score\":\"{:,.2f}\",\n",
    "     \"% Passing Math\":\"%{:,.2f}\",\n",
    "     \"% Passing Reading\":\"%{:,.2f}\",\n",
    "     \"Overall Passing Rate\":\"%{:,.2f}\"\n",
    "     })"
   ]
  },
  {
   "cell_type": "markdown",
   "metadata": {},
   "source": [
    "## Scores by School Type"
   ]
  },
  {
   "cell_type": "markdown",
   "metadata": {},
   "source": [
    "* Perform the same operations as above, based on school type."
   ]
  },
  {
   "cell_type": "code",
   "execution_count": 73,
   "metadata": {},
   "outputs": [
    {
     "data": {
      "text/html": [
       "<div>\n",
       "<style scoped>\n",
       "    .dataframe tbody tr th:only-of-type {\n",
       "        vertical-align: middle;\n",
       "    }\n",
       "\n",
       "    .dataframe tbody tr th {\n",
       "        vertical-align: top;\n",
       "    }\n",
       "\n",
       "    .dataframe thead th {\n",
       "        text-align: right;\n",
       "    }\n",
       "</style>\n",
       "<table border=\"1\" class=\"dataframe\">\n",
       "  <thead>\n",
       "    <tr style=\"text-align: right;\">\n",
       "      <th></th>\n",
       "      <th>Total Students</th>\n",
       "      <th>Avg Math Score</th>\n",
       "      <th>Avg Reading Score</th>\n",
       "      <th>% Passing Math</th>\n",
       "      <th>% Passing Reading</th>\n",
       "      <th>Overall Passing Rate</th>\n",
       "    </tr>\n",
       "    <tr>\n",
       "      <th>type</th>\n",
       "      <th></th>\n",
       "      <th></th>\n",
       "      <th></th>\n",
       "      <th></th>\n",
       "      <th></th>\n",
       "      <th></th>\n",
       "    </tr>\n",
       "  </thead>\n",
       "  <tbody>\n",
       "    <tr>\n",
       "      <td>Charter</td>\n",
       "      <td>1524.250000</td>\n",
       "      <td>83.473852</td>\n",
       "      <td>83.896421</td>\n",
       "      <td>93.620830</td>\n",
       "      <td>96.586489</td>\n",
       "      <td>95.103660</td>\n",
       "    </tr>\n",
       "    <tr>\n",
       "      <td>District</td>\n",
       "      <td>3853.714286</td>\n",
       "      <td>76.956733</td>\n",
       "      <td>80.966636</td>\n",
       "      <td>66.548453</td>\n",
       "      <td>80.799062</td>\n",
       "      <td>73.673757</td>\n",
       "    </tr>\n",
       "  </tbody>\n",
       "</table>\n",
       "</div>"
      ],
      "text/plain": [
       "          Total Students  Avg Math Score  Avg Reading Score  % Passing Math  \\\n",
       "type                                                                          \n",
       "Charter      1524.250000       83.473852          83.896421       93.620830   \n",
       "District     3853.714286       76.956733          80.966636       66.548453   \n",
       "\n",
       "          % Passing Reading  Overall Passing Rate  \n",
       "type                                               \n",
       "Charter           96.586489             95.103660  \n",
       "District          80.799062             73.673757  "
      ]
     },
     "metadata": {},
     "output_type": "display_data"
    }
   ],
   "source": [
    "# Calculate means according to the category\n",
    "school_type = school_size.groupby(by=\"type\").mean()\n",
    "\n",
    "# Apply formatting to display results\n",
    "school_type.style.format({\n",
    "     \"Avg Math Score\":\"{:,.2f}\",\n",
    "     \"Avg Reading Score\":\"{:,.2f}\",\n",
    "     \"% Passing Math\":\"%{:,.2f}\",\n",
    "     \"% Passing Reading\":\"%{:,.2f}\",\n",
    "     \"Overall Passing Rate\":\"%{:,.2f}\"\n",
    "     })"
   ]
  }
 ],
 "metadata": {
  "anaconda-cloud": {},
  "kernel_info": {
   "name": "python3"
  },
  "kernelspec": {
   "display_name": "Python 3",
   "language": "python",
   "name": "python3"
  },
  "language_info": {
   "codemirror_mode": {
    "name": "ipython",
    "version": 3
   },
   "file_extension": ".py",
   "mimetype": "text/x-python",
   "name": "python",
   "nbconvert_exporter": "python",
   "pygments_lexer": "ipython3",
   "version": "3.7.4"
  },
  "latex_envs": {
   "LaTeX_envs_menu_present": true,
   "autoclose": false,
   "autocomplete": true,
   "bibliofile": "biblio.bib",
   "cite_by": "apalike",
   "current_citInitial": 1,
   "eqLabelWithNumbers": true,
   "eqNumInitial": 1,
   "hotkeys": {
    "equation": "Ctrl-E",
    "itemize": "Ctrl-I"
   },
   "labels_anchors": false,
   "latex_user_defs": false,
   "report_style_numbering": false,
   "user_envs_cfg": false
  },
  "nteract": {
   "version": "0.8.4"
  }
 },
 "nbformat": 4,
 "nbformat_minor": 1
}
